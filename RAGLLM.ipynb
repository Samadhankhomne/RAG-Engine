{
  "cells": [
    {
      "cell_type": "code",
      "execution_count": 2,
      "metadata": {
        "colab": {
          "base_uri": "https://localhost:8080/"
        },
        "id": "_kKciuLDnkSf",
        "outputId": "0d4d4f92-7017-475f-cd9b-e5ea9bcb5b18"
      },
      "outputs": [
        {
          "output_type": "stream",
          "name": "stdout",
          "text": [
            "Drive already mounted at /content/drive; to attempt to forcibly remount, call drive.mount(\"/content/drive\", force_remount=True).\n"
          ]
        }
      ],
      "source": [
        "from google.colab import drive\n",
        "drive.mount('/content/drive')"
      ]
    },
    {
      "cell_type": "code",
      "execution_count": null,
      "metadata": {
        "id": "8pVop99Xn8lI"
      },
      "outputs": [],
      "source": [
        "\n"
      ]
    },
    {
      "cell_type": "code",
      "execution_count": 3,
      "metadata": {
        "id": "B64dQITSrAq1",
        "colab": {
          "base_uri": "https://localhost:8080/",
          "height": 1000
        },
        "outputId": "811d5b7a-c05f-477d-960f-c92fd7f0b6b5"
      },
      "outputs": [
        {
          "output_type": "stream",
          "name": "stdout",
          "text": [
            "Collecting chromadb==0.5.5 (from -r requirements.txt (line 1))\n",
            "  Downloading chromadb-0.5.5-py3-none-any.whl.metadata (6.8 kB)\n",
            "Collecting langchain-chroma==0.1.2 (from -r requirements.txt (line 2))\n",
            "  Downloading langchain_chroma-0.1.2-py3-none-any.whl.metadata (1.3 kB)\n",
            "Collecting langchain==0.2.11 (from -r requirements.txt (line 3))\n",
            "  Downloading langchain-0.2.11-py3-none-any.whl.metadata (7.1 kB)\n",
            "Collecting langchain-community==0.2.10 (from -r requirements.txt (line 4))\n",
            "  Downloading langchain_community-0.2.10-py3-none-any.whl.metadata (2.7 kB)\n",
            "Collecting langchain-text-splitters==0.2.2 (from -r requirements.txt (line 5))\n",
            "  Downloading langchain_text_splitters-0.2.2-py3-none-any.whl.metadata (2.1 kB)\n",
            "Collecting langchain-groq==0.1.6 (from -r requirements.txt (line 6))\n",
            "  Downloading langchain_groq-0.1.6-py3-none-any.whl.metadata (2.8 kB)\n",
            "Collecting transformers==4.43.2 (from -r requirements.txt (line 7))\n",
            "  Downloading transformers-4.43.2-py3-none-any.whl.metadata (43 kB)\n",
            "\u001b[2K     \u001b[90m━━━━━━━━━━━━━━━━━━━━━━━━━━━━━━━━━━━━━━━━\u001b[0m \u001b[32m43.7/43.7 kB\u001b[0m \u001b[31m2.9 MB/s\u001b[0m eta \u001b[36m0:00:00\u001b[0m\n",
            "\u001b[?25hCollecting sentence-transformers==3.0.1 (from -r requirements.txt (line 8))\n",
            "  Downloading sentence_transformers-3.0.1-py3-none-any.whl.metadata (10 kB)\n",
            "Collecting unstructured==0.15.0 (from -r requirements.txt (line 9))\n",
            "  Downloading unstructured-0.15.0-py3-none-any.whl.metadata (29 kB)\n",
            "Requirement already satisfied: build>=1.0.3 in /usr/local/lib/python3.10/dist-packages (from chromadb==0.5.5->-r requirements.txt (line 1)) (1.2.1)\n",
            "Requirement already satisfied: pydantic>=1.9 in /usr/local/lib/python3.10/dist-packages (from chromadb==0.5.5->-r requirements.txt (line 1)) (2.8.2)\n",
            "Collecting chroma-hnswlib==0.7.6 (from chromadb==0.5.5->-r requirements.txt (line 1))\n",
            "  Downloading chroma_hnswlib-0.7.6-cp310-cp310-manylinux_2_17_x86_64.manylinux2014_x86_64.whl.metadata (252 bytes)\n",
            "Collecting fastapi>=0.95.2 (from chromadb==0.5.5->-r requirements.txt (line 1))\n",
            "  Downloading fastapi-0.112.1-py3-none-any.whl.metadata (27 kB)\n",
            "Collecting uvicorn>=0.18.3 (from uvicorn[standard]>=0.18.3->chromadb==0.5.5->-r requirements.txt (line 1))\n",
            "  Downloading uvicorn-0.30.6-py3-none-any.whl.metadata (6.6 kB)\n",
            "Requirement already satisfied: numpy<2.0.0,>=1.22.5 in /usr/local/lib/python3.10/dist-packages (from chromadb==0.5.5->-r requirements.txt (line 1)) (1.26.4)\n",
            "Collecting posthog>=2.4.0 (from chromadb==0.5.5->-r requirements.txt (line 1))\n",
            "  Downloading posthog-3.5.2-py2.py3-none-any.whl.metadata (2.0 kB)\n",
            "Requirement already satisfied: typing-extensions>=4.5.0 in /usr/local/lib/python3.10/dist-packages (from chromadb==0.5.5->-r requirements.txt (line 1)) (4.12.2)\n",
            "Collecting onnxruntime>=1.14.1 (from chromadb==0.5.5->-r requirements.txt (line 1))\n",
            "  Downloading onnxruntime-1.19.0-cp310-cp310-manylinux_2_27_x86_64.manylinux_2_28_x86_64.whl.metadata (4.3 kB)\n",
            "Collecting opentelemetry-api>=1.2.0 (from chromadb==0.5.5->-r requirements.txt (line 1))\n",
            "  Downloading opentelemetry_api-1.26.0-py3-none-any.whl.metadata (1.4 kB)\n",
            "Collecting opentelemetry-exporter-otlp-proto-grpc>=1.2.0 (from chromadb==0.5.5->-r requirements.txt (line 1))\n",
            "  Downloading opentelemetry_exporter_otlp_proto_grpc-1.26.0-py3-none-any.whl.metadata (2.3 kB)\n",
            "Collecting opentelemetry-instrumentation-fastapi>=0.41b0 (from chromadb==0.5.5->-r requirements.txt (line 1))\n",
            "  Downloading opentelemetry_instrumentation_fastapi-0.47b0-py3-none-any.whl.metadata (2.1 kB)\n",
            "Collecting opentelemetry-sdk>=1.2.0 (from chromadb==0.5.5->-r requirements.txt (line 1))\n",
            "  Downloading opentelemetry_sdk-1.26.0-py3-none-any.whl.metadata (1.5 kB)\n",
            "Requirement already satisfied: tokenizers>=0.13.2 in /usr/local/lib/python3.10/dist-packages (from chromadb==0.5.5->-r requirements.txt (line 1)) (0.19.1)\n",
            "Collecting pypika>=0.48.9 (from chromadb==0.5.5->-r requirements.txt (line 1))\n",
            "  Downloading PyPika-0.48.9.tar.gz (67 kB)\n",
            "\u001b[2K     \u001b[90m━━━━━━━━━━━━━━━━━━━━━━━━━━━━━━━━━━━━━━━━\u001b[0m \u001b[32m67.3/67.3 kB\u001b[0m \u001b[31m5.9 MB/s\u001b[0m eta \u001b[36m0:00:00\u001b[0m\n",
            "\u001b[?25h  Installing build dependencies ... \u001b[?25l\u001b[?25hdone\n",
            "  Getting requirements to build wheel ... \u001b[?25l\u001b[?25hdone\n",
            "  Preparing metadata (pyproject.toml) ... \u001b[?25l\u001b[?25hdone\n",
            "Requirement already satisfied: tqdm>=4.65.0 in /usr/local/lib/python3.10/dist-packages (from chromadb==0.5.5->-r requirements.txt (line 1)) (4.66.5)\n",
            "Collecting overrides>=7.3.1 (from chromadb==0.5.5->-r requirements.txt (line 1))\n",
            "  Downloading overrides-7.7.0-py3-none-any.whl.metadata (5.8 kB)\n",
            "Requirement already satisfied: importlib-resources in /usr/local/lib/python3.10/dist-packages (from chromadb==0.5.5->-r requirements.txt (line 1)) (6.4.2)\n",
            "Requirement already satisfied: grpcio>=1.58.0 in /usr/local/lib/python3.10/dist-packages (from chromadb==0.5.5->-r requirements.txt (line 1)) (1.64.1)\n",
            "Collecting bcrypt>=4.0.1 (from chromadb==0.5.5->-r requirements.txt (line 1))\n",
            "  Downloading bcrypt-4.2.0-cp39-abi3-manylinux_2_28_x86_64.whl.metadata (9.6 kB)\n",
            "Requirement already satisfied: typer>=0.9.0 in /usr/local/lib/python3.10/dist-packages (from chromadb==0.5.5->-r requirements.txt (line 1)) (0.12.3)\n",
            "Collecting kubernetes>=28.1.0 (from chromadb==0.5.5->-r requirements.txt (line 1))\n",
            "  Downloading kubernetes-30.1.0-py2.py3-none-any.whl.metadata (1.5 kB)\n",
            "Requirement already satisfied: tenacity>=8.2.3 in /usr/local/lib/python3.10/dist-packages (from chromadb==0.5.5->-r requirements.txt (line 1)) (9.0.0)\n",
            "Requirement already satisfied: PyYAML>=6.0.0 in /usr/local/lib/python3.10/dist-packages (from chromadb==0.5.5->-r requirements.txt (line 1)) (6.0.2)\n",
            "Collecting mmh3>=4.0.1 (from chromadb==0.5.5->-r requirements.txt (line 1))\n",
            "  Downloading mmh3-4.1.0-cp310-cp310-manylinux_2_5_x86_64.manylinux1_x86_64.manylinux_2_17_x86_64.manylinux2014_x86_64.whl.metadata (13 kB)\n",
            "Collecting orjson>=3.9.12 (from chromadb==0.5.5->-r requirements.txt (line 1))\n",
            "  Downloading orjson-3.10.7-cp310-cp310-manylinux_2_17_x86_64.manylinux2014_x86_64.whl.metadata (50 kB)\n",
            "\u001b[2K     \u001b[90m━━━━━━━━━━━━━━━━━━━━━━━━━━━━━━━━━━━━━━━━\u001b[0m \u001b[32m50.4/50.4 kB\u001b[0m \u001b[31m4.4 MB/s\u001b[0m eta \u001b[36m0:00:00\u001b[0m\n",
            "\u001b[?25hCollecting httpx>=0.27.0 (from chromadb==0.5.5->-r requirements.txt (line 1))\n",
            "  Downloading httpx-0.27.0-py3-none-any.whl.metadata (7.2 kB)\n",
            "Collecting langchain-core<0.3,>=0.1.40 (from langchain-chroma==0.1.2->-r requirements.txt (line 2))\n",
            "  Downloading langchain_core-0.2.34-py3-none-any.whl.metadata (6.2 kB)\n",
            "Requirement already satisfied: SQLAlchemy<3,>=1.4 in /usr/local/lib/python3.10/dist-packages (from langchain==0.2.11->-r requirements.txt (line 3)) (2.0.32)\n",
            "Requirement already satisfied: aiohttp<4.0.0,>=3.8.3 in /usr/local/lib/python3.10/dist-packages (from langchain==0.2.11->-r requirements.txt (line 3)) (3.10.3)\n",
            "Requirement already satisfied: async-timeout<5.0.0,>=4.0.0 in /usr/local/lib/python3.10/dist-packages (from langchain==0.2.11->-r requirements.txt (line 3)) (4.0.3)\n",
            "Collecting langsmith<0.2.0,>=0.1.17 (from langchain==0.2.11->-r requirements.txt (line 3))\n",
            "  Downloading langsmith-0.1.101-py3-none-any.whl.metadata (13 kB)\n",
            "Requirement already satisfied: requests<3,>=2 in /usr/local/lib/python3.10/dist-packages (from langchain==0.2.11->-r requirements.txt (line 3)) (2.32.3)\n",
            "Collecting tenacity>=8.2.3 (from chromadb==0.5.5->-r requirements.txt (line 1))\n",
            "  Downloading tenacity-8.5.0-py3-none-any.whl.metadata (1.2 kB)\n",
            "Collecting dataclasses-json<0.7,>=0.5.7 (from langchain-community==0.2.10->-r requirements.txt (line 4))\n",
            "  Downloading dataclasses_json-0.6.7-py3-none-any.whl.metadata (25 kB)\n",
            "Collecting groq<1,>=0.4.1 (from langchain-groq==0.1.6->-r requirements.txt (line 6))\n",
            "  Downloading groq-0.9.0-py3-none-any.whl.metadata (13 kB)\n",
            "Requirement already satisfied: filelock in /usr/local/lib/python3.10/dist-packages (from transformers==4.43.2->-r requirements.txt (line 7)) (3.15.4)\n",
            "Requirement already satisfied: huggingface-hub<1.0,>=0.23.2 in /usr/local/lib/python3.10/dist-packages (from transformers==4.43.2->-r requirements.txt (line 7)) (0.23.5)\n",
            "Requirement already satisfied: packaging>=20.0 in /usr/local/lib/python3.10/dist-packages (from transformers==4.43.2->-r requirements.txt (line 7)) (24.1)\n",
            "Requirement already satisfied: regex!=2019.12.17 in /usr/local/lib/python3.10/dist-packages (from transformers==4.43.2->-r requirements.txt (line 7)) (2024.5.15)\n",
            "Requirement already satisfied: safetensors>=0.4.1 in /usr/local/lib/python3.10/dist-packages (from transformers==4.43.2->-r requirements.txt (line 7)) (0.4.4)\n",
            "Requirement already satisfied: torch>=1.11.0 in /usr/local/lib/python3.10/dist-packages (from sentence-transformers==3.0.1->-r requirements.txt (line 8)) (2.3.1+cu121)\n",
            "Requirement already satisfied: scikit-learn in /usr/local/lib/python3.10/dist-packages (from sentence-transformers==3.0.1->-r requirements.txt (line 8)) (1.3.2)\n",
            "Requirement already satisfied: scipy in /usr/local/lib/python3.10/dist-packages (from sentence-transformers==3.0.1->-r requirements.txt (line 8)) (1.13.1)\n",
            "Requirement already satisfied: Pillow in /usr/local/lib/python3.10/dist-packages (from sentence-transformers==3.0.1->-r requirements.txt (line 8)) (9.4.0)\n",
            "Requirement already satisfied: chardet in /usr/local/lib/python3.10/dist-packages (from unstructured==0.15.0->-r requirements.txt (line 9)) (5.2.0)\n",
            "Collecting filetype (from unstructured==0.15.0->-r requirements.txt (line 9))\n",
            "  Downloading filetype-1.2.0-py2.py3-none-any.whl.metadata (6.5 kB)\n",
            "Collecting python-magic (from unstructured==0.15.0->-r requirements.txt (line 9))\n",
            "  Downloading python_magic-0.4.27-py2.py3-none-any.whl.metadata (5.8 kB)\n",
            "Requirement already satisfied: lxml in /usr/local/lib/python3.10/dist-packages (from unstructured==0.15.0->-r requirements.txt (line 9)) (4.9.4)\n",
            "Requirement already satisfied: nltk in /usr/local/lib/python3.10/dist-packages (from unstructured==0.15.0->-r requirements.txt (line 9)) (3.8.1)\n",
            "Requirement already satisfied: tabulate in /usr/local/lib/python3.10/dist-packages (from unstructured==0.15.0->-r requirements.txt (line 9)) (0.9.0)\n",
            "Requirement already satisfied: beautifulsoup4 in /usr/local/lib/python3.10/dist-packages (from unstructured==0.15.0->-r requirements.txt (line 9)) (4.12.3)\n",
            "Collecting emoji (from unstructured==0.15.0->-r requirements.txt (line 9))\n",
            "  Downloading emoji-2.12.1-py3-none-any.whl.metadata (5.4 kB)\n",
            "Collecting python-iso639 (from unstructured==0.15.0->-r requirements.txt (line 9))\n",
            "  Downloading python_iso639-2024.4.27-py3-none-any.whl.metadata (13 kB)\n",
            "Collecting langdetect (from unstructured==0.15.0->-r requirements.txt (line 9))\n",
            "  Downloading langdetect-1.0.9.tar.gz (981 kB)\n",
            "\u001b[2K     \u001b[90m━━━━━━━━━━━━━━━━━━━━━━━━━━━━━━━━━━━━━━━━\u001b[0m \u001b[32m981.5/981.5 kB\u001b[0m \u001b[31m27.2 MB/s\u001b[0m eta \u001b[36m0:00:00\u001b[0m\n",
            "\u001b[?25h  Preparing metadata (setup.py) ... \u001b[?25l\u001b[?25hdone\n",
            "Collecting rapidfuzz (from unstructured==0.15.0->-r requirements.txt (line 9))\n",
            "  Downloading rapidfuzz-3.9.6-cp310-cp310-manylinux_2_17_x86_64.manylinux2014_x86_64.whl.metadata (12 kB)\n",
            "Collecting backoff (from unstructured==0.15.0->-r requirements.txt (line 9))\n",
            "  Downloading backoff-2.2.1-py3-none-any.whl.metadata (14 kB)\n",
            "Collecting unstructured-client (from unstructured==0.15.0->-r requirements.txt (line 9))\n",
            "  Downloading unstructured_client-0.25.5-py3-none-any.whl.metadata (13 kB)\n",
            "Requirement already satisfied: wrapt in /usr/local/lib/python3.10/dist-packages (from unstructured==0.15.0->-r requirements.txt (line 9)) (1.16.0)\n",
            "Requirement already satisfied: psutil in /usr/local/lib/python3.10/dist-packages (from unstructured==0.15.0->-r requirements.txt (line 9)) (5.9.5)\n",
            "Collecting onnx (from unstructured[pdf]==0.15.0->-r requirements.txt (line 10))\n",
            "  Downloading onnx-1.16.2-cp310-cp310-manylinux_2_17_x86_64.manylinux2014_x86_64.whl.metadata (16 kB)\n",
            "Collecting pdf2image (from unstructured[pdf]==0.15.0->-r requirements.txt (line 10))\n",
            "  Downloading pdf2image-1.17.0-py3-none-any.whl.metadata (6.2 kB)\n",
            "Collecting pdfminer.six (from unstructured[pdf]==0.15.0->-r requirements.txt (line 10))\n",
            "  Downloading pdfminer.six-20240706-py3-none-any.whl.metadata (4.1 kB)\n",
            "Collecting pikepdf (from unstructured[pdf]==0.15.0->-r requirements.txt (line 10))\n",
            "  Downloading pikepdf-9.1.2-cp310-cp310-manylinux_2_17_x86_64.manylinux2014_x86_64.whl.metadata (8.1 kB)\n",
            "Collecting pillow-heif (from unstructured[pdf]==0.15.0->-r requirements.txt (line 10))\n",
            "  Downloading pillow_heif-0.18.0-cp310-cp310-manylinux_2_17_x86_64.manylinux2014_x86_64.whl.metadata (9.8 kB)\n",
            "Collecting pypdf (from unstructured[pdf]==0.15.0->-r requirements.txt (line 10))\n",
            "  Downloading pypdf-4.3.1-py3-none-any.whl.metadata (7.4 kB)\n",
            "Collecting pytesseract (from unstructured[pdf]==0.15.0->-r requirements.txt (line 10))\n",
            "  Downloading pytesseract-0.3.13-py3-none-any.whl.metadata (11 kB)\n",
            "Collecting google-cloud-vision (from unstructured[pdf]==0.15.0->-r requirements.txt (line 10))\n",
            "  Downloading google_cloud_vision-3.7.4-py2.py3-none-any.whl.metadata (5.2 kB)\n",
            "Collecting effdet (from unstructured[pdf]==0.15.0->-r requirements.txt (line 10))\n",
            "  Downloading effdet-0.4.1-py3-none-any.whl.metadata (33 kB)\n",
            "Collecting unstructured-inference==0.7.36 (from unstructured[pdf]==0.15.0->-r requirements.txt (line 10))\n",
            "  Downloading unstructured_inference-0.7.36-py3-none-any.whl.metadata (5.9 kB)\n",
            "Collecting unstructured.pytesseract>=0.3.12 (from unstructured[pdf]==0.15.0->-r requirements.txt (line 10))\n",
            "  Downloading unstructured.pytesseract-0.3.13-py3-none-any.whl.metadata (11 kB)\n",
            "Collecting layoutparser (from unstructured-inference==0.7.36->unstructured[pdf]==0.15.0->-r requirements.txt (line 10))\n",
            "  Downloading layoutparser-0.3.4-py3-none-any.whl.metadata (7.7 kB)\n",
            "Collecting python-multipart (from unstructured-inference==0.7.36->unstructured[pdf]==0.15.0->-r requirements.txt (line 10))\n",
            "  Downloading python_multipart-0.0.9-py3-none-any.whl.metadata (2.5 kB)\n",
            "Requirement already satisfied: opencv-python!=4.7.0.68 in /usr/local/lib/python3.10/dist-packages (from unstructured-inference==0.7.36->unstructured[pdf]==0.15.0->-r requirements.txt (line 10)) (4.10.0.84)\n",
            "Requirement already satisfied: matplotlib in /usr/local/lib/python3.10/dist-packages (from unstructured-inference==0.7.36->unstructured[pdf]==0.15.0->-r requirements.txt (line 10)) (3.7.1)\n",
            "Collecting timm (from unstructured-inference==0.7.36->unstructured[pdf]==0.15.0->-r requirements.txt (line 10))\n",
            "  Downloading timm-1.0.8-py3-none-any.whl.metadata (53 kB)\n",
            "\u001b[2K     \u001b[90m━━━━━━━━━━━━━━━━━━━━━━━━━━━━━━━━━━━━━━━━\u001b[0m \u001b[32m53.8/53.8 kB\u001b[0m \u001b[31m4.8 MB/s\u001b[0m eta \u001b[36m0:00:00\u001b[0m\n",
            "\u001b[?25hRequirement already satisfied: aiohappyeyeballs>=2.3.0 in /usr/local/lib/python3.10/dist-packages (from aiohttp<4.0.0,>=3.8.3->langchain==0.2.11->-r requirements.txt (line 3)) (2.3.5)\n",
            "Requirement already satisfied: aiosignal>=1.1.2 in /usr/local/lib/python3.10/dist-packages (from aiohttp<4.0.0,>=3.8.3->langchain==0.2.11->-r requirements.txt (line 3)) (1.3.1)\n",
            "Requirement already satisfied: attrs>=17.3.0 in /usr/local/lib/python3.10/dist-packages (from aiohttp<4.0.0,>=3.8.3->langchain==0.2.11->-r requirements.txt (line 3)) (24.2.0)\n",
            "Requirement already satisfied: frozenlist>=1.1.1 in /usr/local/lib/python3.10/dist-packages (from aiohttp<4.0.0,>=3.8.3->langchain==0.2.11->-r requirements.txt (line 3)) (1.4.1)\n",
            "Requirement already satisfied: multidict<7.0,>=4.5 in /usr/local/lib/python3.10/dist-packages (from aiohttp<4.0.0,>=3.8.3->langchain==0.2.11->-r requirements.txt (line 3)) (6.0.5)\n",
            "Requirement already satisfied: yarl<2.0,>=1.0 in /usr/local/lib/python3.10/dist-packages (from aiohttp<4.0.0,>=3.8.3->langchain==0.2.11->-r requirements.txt (line 3)) (1.9.4)\n",
            "Requirement already satisfied: pyproject_hooks in /usr/local/lib/python3.10/dist-packages (from build>=1.0.3->chromadb==0.5.5->-r requirements.txt (line 1)) (1.1.0)\n",
            "Requirement already satisfied: tomli>=1.1.0 in /usr/local/lib/python3.10/dist-packages (from build>=1.0.3->chromadb==0.5.5->-r requirements.txt (line 1)) (2.0.1)\n",
            "Collecting marshmallow<4.0.0,>=3.18.0 (from dataclasses-json<0.7,>=0.5.7->langchain-community==0.2.10->-r requirements.txt (line 4))\n",
            "  Downloading marshmallow-3.22.0-py3-none-any.whl.metadata (7.2 kB)\n",
            "Collecting typing-inspect<1,>=0.4.0 (from dataclasses-json<0.7,>=0.5.7->langchain-community==0.2.10->-r requirements.txt (line 4))\n",
            "  Downloading typing_inspect-0.9.0-py3-none-any.whl.metadata (1.5 kB)\n",
            "Collecting starlette<0.39.0,>=0.37.2 (from fastapi>=0.95.2->chromadb==0.5.5->-r requirements.txt (line 1))\n",
            "  Downloading starlette-0.38.2-py3-none-any.whl.metadata (5.9 kB)\n",
            "Requirement already satisfied: anyio<5,>=3.5.0 in /usr/local/lib/python3.10/dist-packages (from groq<1,>=0.4.1->langchain-groq==0.1.6->-r requirements.txt (line 6)) (3.7.1)\n",
            "Requirement already satisfied: distro<2,>=1.7.0 in /usr/lib/python3/dist-packages (from groq<1,>=0.4.1->langchain-groq==0.1.6->-r requirements.txt (line 6)) (1.7.0)\n",
            "Requirement already satisfied: sniffio in /usr/local/lib/python3.10/dist-packages (from groq<1,>=0.4.1->langchain-groq==0.1.6->-r requirements.txt (line 6)) (1.3.1)\n",
            "Requirement already satisfied: certifi in /usr/local/lib/python3.10/dist-packages (from httpx>=0.27.0->chromadb==0.5.5->-r requirements.txt (line 1)) (2024.7.4)\n",
            "Collecting httpcore==1.* (from httpx>=0.27.0->chromadb==0.5.5->-r requirements.txt (line 1))\n",
            "  Downloading httpcore-1.0.5-py3-none-any.whl.metadata (20 kB)\n",
            "Requirement already satisfied: idna in /usr/local/lib/python3.10/dist-packages (from httpx>=0.27.0->chromadb==0.5.5->-r requirements.txt (line 1)) (3.7)\n",
            "Collecting h11<0.15,>=0.13 (from httpcore==1.*->httpx>=0.27.0->chromadb==0.5.5->-r requirements.txt (line 1))\n",
            "  Downloading h11-0.14.0-py3-none-any.whl.metadata (8.2 kB)\n",
            "Requirement already satisfied: fsspec>=2023.5.0 in /usr/local/lib/python3.10/dist-packages (from huggingface-hub<1.0,>=0.23.2->transformers==4.43.2->-r requirements.txt (line 7)) (2024.6.1)\n",
            "Requirement already satisfied: six>=1.9.0 in /usr/local/lib/python3.10/dist-packages (from kubernetes>=28.1.0->chromadb==0.5.5->-r requirements.txt (line 1)) (1.16.0)\n",
            "Requirement already satisfied: python-dateutil>=2.5.3 in /usr/local/lib/python3.10/dist-packages (from kubernetes>=28.1.0->chromadb==0.5.5->-r requirements.txt (line 1)) (2.8.2)\n",
            "Requirement already satisfied: google-auth>=1.0.1 in /usr/local/lib/python3.10/dist-packages (from kubernetes>=28.1.0->chromadb==0.5.5->-r requirements.txt (line 1)) (2.27.0)\n",
            "Requirement already satisfied: websocket-client!=0.40.0,!=0.41.*,!=0.42.*,>=0.32.0 in /usr/local/lib/python3.10/dist-packages (from kubernetes>=28.1.0->chromadb==0.5.5->-r requirements.txt (line 1)) (1.8.0)\n",
            "Requirement already satisfied: requests-oauthlib in /usr/local/lib/python3.10/dist-packages (from kubernetes>=28.1.0->chromadb==0.5.5->-r requirements.txt (line 1)) (1.3.1)\n",
            "Requirement already satisfied: oauthlib>=3.2.2 in /usr/local/lib/python3.10/dist-packages (from kubernetes>=28.1.0->chromadb==0.5.5->-r requirements.txt (line 1)) (3.2.2)\n",
            "Requirement already satisfied: urllib3>=1.24.2 in /usr/local/lib/python3.10/dist-packages (from kubernetes>=28.1.0->chromadb==0.5.5->-r requirements.txt (line 1)) (2.0.7)\n",
            "Collecting jsonpatch<2.0,>=1.33 (from langchain-core<0.3,>=0.1.40->langchain-chroma==0.1.2->-r requirements.txt (line 2))\n",
            "  Downloading jsonpatch-1.33-py2.py3-none-any.whl.metadata (3.0 kB)\n",
            "Collecting coloredlogs (from onnxruntime>=1.14.1->chromadb==0.5.5->-r requirements.txt (line 1))\n",
            "  Downloading coloredlogs-15.0.1-py2.py3-none-any.whl.metadata (12 kB)\n",
            "Requirement already satisfied: flatbuffers in /usr/local/lib/python3.10/dist-packages (from onnxruntime>=1.14.1->chromadb==0.5.5->-r requirements.txt (line 1)) (24.3.25)\n",
            "Requirement already satisfied: protobuf in /usr/local/lib/python3.10/dist-packages (from onnxruntime>=1.14.1->chromadb==0.5.5->-r requirements.txt (line 1)) (3.20.3)\n",
            "Requirement already satisfied: sympy in /usr/local/lib/python3.10/dist-packages (from onnxruntime>=1.14.1->chromadb==0.5.5->-r requirements.txt (line 1)) (1.13.2)\n",
            "Collecting deprecated>=1.2.6 (from opentelemetry-api>=1.2.0->chromadb==0.5.5->-r requirements.txt (line 1))\n",
            "  Downloading Deprecated-1.2.14-py2.py3-none-any.whl.metadata (5.4 kB)\n",
            "Collecting importlib-metadata<=8.0.0,>=6.0 (from opentelemetry-api>=1.2.0->chromadb==0.5.5->-r requirements.txt (line 1))\n",
            "  Downloading importlib_metadata-8.0.0-py3-none-any.whl.metadata (4.6 kB)\n",
            "Requirement already satisfied: googleapis-common-protos~=1.52 in /usr/local/lib/python3.10/dist-packages (from opentelemetry-exporter-otlp-proto-grpc>=1.2.0->chromadb==0.5.5->-r requirements.txt (line 1)) (1.63.2)\n",
            "Collecting opentelemetry-exporter-otlp-proto-common==1.26.0 (from opentelemetry-exporter-otlp-proto-grpc>=1.2.0->chromadb==0.5.5->-r requirements.txt (line 1))\n",
            "  Downloading opentelemetry_exporter_otlp_proto_common-1.26.0-py3-none-any.whl.metadata (1.8 kB)\n",
            "Collecting opentelemetry-proto==1.26.0 (from opentelemetry-exporter-otlp-proto-grpc>=1.2.0->chromadb==0.5.5->-r requirements.txt (line 1))\n",
            "  Downloading opentelemetry_proto-1.26.0-py3-none-any.whl.metadata (2.3 kB)\n",
            "Collecting opentelemetry-instrumentation-asgi==0.47b0 (from opentelemetry-instrumentation-fastapi>=0.41b0->chromadb==0.5.5->-r requirements.txt (line 1))\n",
            "  Downloading opentelemetry_instrumentation_asgi-0.47b0-py3-none-any.whl.metadata (2.0 kB)\n",
            "Collecting opentelemetry-instrumentation==0.47b0 (from opentelemetry-instrumentation-fastapi>=0.41b0->chromadb==0.5.5->-r requirements.txt (line 1))\n",
            "  Downloading opentelemetry_instrumentation-0.47b0-py3-none-any.whl.metadata (6.1 kB)\n",
            "Collecting opentelemetry-semantic-conventions==0.47b0 (from opentelemetry-instrumentation-fastapi>=0.41b0->chromadb==0.5.5->-r requirements.txt (line 1))\n",
            "  Downloading opentelemetry_semantic_conventions-0.47b0-py3-none-any.whl.metadata (2.4 kB)\n",
            "Collecting opentelemetry-util-http==0.47b0 (from opentelemetry-instrumentation-fastapi>=0.41b0->chromadb==0.5.5->-r requirements.txt (line 1))\n",
            "  Downloading opentelemetry_util_http-0.47b0-py3-none-any.whl.metadata (2.5 kB)\n",
            "Requirement already satisfied: setuptools>=16.0 in /usr/local/lib/python3.10/dist-packages (from opentelemetry-instrumentation==0.47b0->opentelemetry-instrumentation-fastapi>=0.41b0->chromadb==0.5.5->-r requirements.txt (line 1)) (71.0.4)\n",
            "Collecting asgiref~=3.0 (from opentelemetry-instrumentation-asgi==0.47b0->opentelemetry-instrumentation-fastapi>=0.41b0->chromadb==0.5.5->-r requirements.txt (line 1))\n",
            "  Downloading asgiref-3.8.1-py3-none-any.whl.metadata (9.3 kB)\n",
            "Collecting monotonic>=1.5 (from posthog>=2.4.0->chromadb==0.5.5->-r requirements.txt (line 1))\n",
            "  Downloading monotonic-1.6-py2.py3-none-any.whl.metadata (1.5 kB)\n",
            "Requirement already satisfied: annotated-types>=0.4.0 in /usr/local/lib/python3.10/dist-packages (from pydantic>=1.9->chromadb==0.5.5->-r requirements.txt (line 1)) (0.7.0)\n",
            "Requirement already satisfied: pydantic-core==2.20.1 in /usr/local/lib/python3.10/dist-packages (from pydantic>=1.9->chromadb==0.5.5->-r requirements.txt (line 1)) (2.20.1)\n",
            "Requirement already satisfied: charset-normalizer<4,>=2 in /usr/local/lib/python3.10/dist-packages (from requests<3,>=2->langchain==0.2.11->-r requirements.txt (line 3)) (3.3.2)\n",
            "Requirement already satisfied: greenlet!=0.4.17 in /usr/local/lib/python3.10/dist-packages (from SQLAlchemy<3,>=1.4->langchain==0.2.11->-r requirements.txt (line 3)) (3.0.3)\n",
            "Requirement already satisfied: networkx in /usr/local/lib/python3.10/dist-packages (from torch>=1.11.0->sentence-transformers==3.0.1->-r requirements.txt (line 8)) (3.3)\n",
            "Requirement already satisfied: jinja2 in /usr/local/lib/python3.10/dist-packages (from torch>=1.11.0->sentence-transformers==3.0.1->-r requirements.txt (line 8)) (3.1.4)\n",
            "Collecting nvidia-cuda-nvrtc-cu12==12.1.105 (from torch>=1.11.0->sentence-transformers==3.0.1->-r requirements.txt (line 8))\n",
            "  Using cached nvidia_cuda_nvrtc_cu12-12.1.105-py3-none-manylinux1_x86_64.whl.metadata (1.5 kB)\n",
            "Collecting nvidia-cuda-runtime-cu12==12.1.105 (from torch>=1.11.0->sentence-transformers==3.0.1->-r requirements.txt (line 8))\n",
            "  Using cached nvidia_cuda_runtime_cu12-12.1.105-py3-none-manylinux1_x86_64.whl.metadata (1.5 kB)\n",
            "Collecting nvidia-cuda-cupti-cu12==12.1.105 (from torch>=1.11.0->sentence-transformers==3.0.1->-r requirements.txt (line 8))\n",
            "  Using cached nvidia_cuda_cupti_cu12-12.1.105-py3-none-manylinux1_x86_64.whl.metadata (1.6 kB)\n",
            "Collecting nvidia-cudnn-cu12==8.9.2.26 (from torch>=1.11.0->sentence-transformers==3.0.1->-r requirements.txt (line 8))\n",
            "  Using cached nvidia_cudnn_cu12-8.9.2.26-py3-none-manylinux1_x86_64.whl.metadata (1.6 kB)\n",
            "Collecting nvidia-cublas-cu12==12.1.3.1 (from torch>=1.11.0->sentence-transformers==3.0.1->-r requirements.txt (line 8))\n",
            "  Using cached nvidia_cublas_cu12-12.1.3.1-py3-none-manylinux1_x86_64.whl.metadata (1.5 kB)\n",
            "Collecting nvidia-cufft-cu12==11.0.2.54 (from torch>=1.11.0->sentence-transformers==3.0.1->-r requirements.txt (line 8))\n",
            "  Using cached nvidia_cufft_cu12-11.0.2.54-py3-none-manylinux1_x86_64.whl.metadata (1.5 kB)\n",
            "Collecting nvidia-curand-cu12==10.3.2.106 (from torch>=1.11.0->sentence-transformers==3.0.1->-r requirements.txt (line 8))\n",
            "  Using cached nvidia_curand_cu12-10.3.2.106-py3-none-manylinux1_x86_64.whl.metadata (1.5 kB)\n",
            "Collecting nvidia-cusolver-cu12==11.4.5.107 (from torch>=1.11.0->sentence-transformers==3.0.1->-r requirements.txt (line 8))\n",
            "  Using cached nvidia_cusolver_cu12-11.4.5.107-py3-none-manylinux1_x86_64.whl.metadata (1.6 kB)\n",
            "Collecting nvidia-cusparse-cu12==12.1.0.106 (from torch>=1.11.0->sentence-transformers==3.0.1->-r requirements.txt (line 8))\n",
            "  Using cached nvidia_cusparse_cu12-12.1.0.106-py3-none-manylinux1_x86_64.whl.metadata (1.6 kB)\n",
            "Collecting nvidia-nccl-cu12==2.20.5 (from torch>=1.11.0->sentence-transformers==3.0.1->-r requirements.txt (line 8))\n",
            "  Using cached nvidia_nccl_cu12-2.20.5-py3-none-manylinux2014_x86_64.whl.metadata (1.8 kB)\n",
            "Collecting nvidia-nvtx-cu12==12.1.105 (from torch>=1.11.0->sentence-transformers==3.0.1->-r requirements.txt (line 8))\n",
            "  Using cached nvidia_nvtx_cu12-12.1.105-py3-none-manylinux1_x86_64.whl.metadata (1.7 kB)\n",
            "Requirement already satisfied: triton==2.3.1 in /usr/local/lib/python3.10/dist-packages (from torch>=1.11.0->sentence-transformers==3.0.1->-r requirements.txt (line 8)) (2.3.1)\n",
            "Collecting nvidia-nvjitlink-cu12 (from nvidia-cusolver-cu12==11.4.5.107->torch>=1.11.0->sentence-transformers==3.0.1->-r requirements.txt (line 8))\n",
            "  Using cached nvidia_nvjitlink_cu12-12.6.20-py3-none-manylinux2014_x86_64.whl.metadata (1.5 kB)\n",
            "Requirement already satisfied: click>=8.0.0 in /usr/local/lib/python3.10/dist-packages (from typer>=0.9.0->chromadb==0.5.5->-r requirements.txt (line 1)) (8.1.7)\n",
            "Requirement already satisfied: shellingham>=1.3.0 in /usr/local/lib/python3.10/dist-packages (from typer>=0.9.0->chromadb==0.5.5->-r requirements.txt (line 1)) (1.5.4)\n",
            "Requirement already satisfied: rich>=10.11.0 in /usr/local/lib/python3.10/dist-packages (from typer>=0.9.0->chromadb==0.5.5->-r requirements.txt (line 1)) (13.7.1)\n",
            "Collecting httptools>=0.5.0 (from uvicorn[standard]>=0.18.3->chromadb==0.5.5->-r requirements.txt (line 1))\n",
            "  Downloading httptools-0.6.1-cp310-cp310-manylinux_2_5_x86_64.manylinux1_x86_64.manylinux_2_17_x86_64.manylinux2014_x86_64.whl.metadata (3.6 kB)\n",
            "Collecting python-dotenv>=0.13 (from uvicorn[standard]>=0.18.3->chromadb==0.5.5->-r requirements.txt (line 1))\n",
            "  Downloading python_dotenv-1.0.1-py3-none-any.whl.metadata (23 kB)\n",
            "Collecting uvloop!=0.15.0,!=0.15.1,>=0.14.0 (from uvicorn[standard]>=0.18.3->chromadb==0.5.5->-r requirements.txt (line 1))\n",
            "  Downloading uvloop-0.20.0-cp310-cp310-manylinux_2_17_x86_64.manylinux2014_x86_64.whl.metadata (4.9 kB)\n",
            "Collecting watchfiles>=0.13 (from uvicorn[standard]>=0.18.3->chromadb==0.5.5->-r requirements.txt (line 1))\n",
            "  Downloading watchfiles-0.23.0-cp310-cp310-manylinux_2_17_x86_64.manylinux2014_x86_64.whl.metadata (4.9 kB)\n",
            "Collecting websockets>=10.4 (from uvicorn[standard]>=0.18.3->chromadb==0.5.5->-r requirements.txt (line 1))\n",
            "  Downloading websockets-13.0-cp310-cp310-manylinux_2_5_x86_64.manylinux1_x86_64.manylinux_2_17_x86_64.manylinux2014_x86_64.whl.metadata (6.7 kB)\n",
            "Requirement already satisfied: soupsieve>1.2 in /usr/local/lib/python3.10/dist-packages (from beautifulsoup4->unstructured==0.15.0->-r requirements.txt (line 9)) (2.6)\n",
            "Requirement already satisfied: torchvision in /usr/local/lib/python3.10/dist-packages (from effdet->unstructured[pdf]==0.15.0->-r requirements.txt (line 10)) (0.18.1+cu121)\n",
            "Requirement already satisfied: pycocotools>=2.0.2 in /usr/local/lib/python3.10/dist-packages (from effdet->unstructured[pdf]==0.15.0->-r requirements.txt (line 10)) (2.0.8)\n",
            "Collecting omegaconf>=2.0 (from effdet->unstructured[pdf]==0.15.0->-r requirements.txt (line 10))\n",
            "  Downloading omegaconf-2.3.0-py3-none-any.whl.metadata (3.9 kB)\n",
            "Requirement already satisfied: google-api-core!=2.0.*,!=2.1.*,!=2.10.*,!=2.2.*,!=2.3.*,!=2.4.*,!=2.5.*,!=2.6.*,!=2.7.*,!=2.8.*,!=2.9.*,<3.0.0dev,>=1.34.1 in /usr/local/lib/python3.10/dist-packages (from google-api-core[grpc]!=2.0.*,!=2.1.*,!=2.10.*,!=2.2.*,!=2.3.*,!=2.4.*,!=2.5.*,!=2.6.*,!=2.7.*,!=2.8.*,!=2.9.*,<3.0.0dev,>=1.34.1->google-cloud-vision->unstructured[pdf]==0.15.0->-r requirements.txt (line 10)) (2.19.1)\n",
            "Requirement already satisfied: proto-plus<2.0.0dev,>=1.22.3 in /usr/local/lib/python3.10/dist-packages (from google-cloud-vision->unstructured[pdf]==0.15.0->-r requirements.txt (line 10)) (1.24.0)\n",
            "Requirement already satisfied: joblib in /usr/local/lib/python3.10/dist-packages (from nltk->unstructured==0.15.0->-r requirements.txt (line 9)) (1.4.2)\n",
            "Requirement already satisfied: cryptography>=36.0.0 in /usr/local/lib/python3.10/dist-packages (from pdfminer.six->unstructured[pdf]==0.15.0->-r requirements.txt (line 10)) (42.0.8)\n",
            "Collecting Pillow (from sentence-transformers==3.0.1->-r requirements.txt (line 8))\n",
            "  Downloading pillow-10.4.0-cp310-cp310-manylinux_2_28_x86_64.whl.metadata (9.2 kB)\n",
            "Requirement already satisfied: threadpoolctl>=2.0.0 in /usr/local/lib/python3.10/dist-packages (from scikit-learn->sentence-transformers==3.0.1->-r requirements.txt (line 8)) (3.5.0)\n",
            "Collecting deepdiff>=6.0 (from unstructured-client->unstructured==0.15.0->-r requirements.txt (line 9))\n",
            "  Downloading deepdiff-7.0.1-py3-none-any.whl.metadata (6.8 kB)\n",
            "Collecting jsonpath-python>=1.0.6 (from unstructured-client->unstructured==0.15.0->-r requirements.txt (line 9))\n",
            "  Downloading jsonpath_python-1.0.6-py3-none-any.whl.metadata (12 kB)\n",
            "Collecting mypy-extensions>=1.0.0 (from unstructured-client->unstructured==0.15.0->-r requirements.txt (line 9))\n",
            "  Downloading mypy_extensions-1.0.0-py3-none-any.whl.metadata (1.1 kB)\n",
            "Requirement already satisfied: nest-asyncio>=1.6.0 in /usr/local/lib/python3.10/dist-packages (from unstructured-client->unstructured==0.15.0->-r requirements.txt (line 9)) (1.6.0)\n",
            "Collecting requests-toolbelt>=1.0.0 (from unstructured-client->unstructured==0.15.0->-r requirements.txt (line 9))\n",
            "  Downloading requests_toolbelt-1.0.0-py2.py3-none-any.whl.metadata (14 kB)\n",
            "Requirement already satisfied: exceptiongroup in /usr/local/lib/python3.10/dist-packages (from anyio<5,>=3.5.0->groq<1,>=0.4.1->langchain-groq==0.1.6->-r requirements.txt (line 6)) (1.2.2)\n",
            "Requirement already satisfied: cffi>=1.12 in /usr/local/lib/python3.10/dist-packages (from cryptography>=36.0.0->pdfminer.six->unstructured[pdf]==0.15.0->-r requirements.txt (line 10)) (1.17.0)\n",
            "Collecting ordered-set<4.2.0,>=4.1.0 (from deepdiff>=6.0->unstructured-client->unstructured==0.15.0->-r requirements.txt (line 9))\n",
            "  Downloading ordered_set-4.1.0-py3-none-any.whl.metadata (5.3 kB)\n",
            "Requirement already satisfied: grpcio-status<2.0.dev0,>=1.33.2 in /usr/local/lib/python3.10/dist-packages (from google-api-core[grpc]!=2.0.*,!=2.1.*,!=2.10.*,!=2.2.*,!=2.3.*,!=2.4.*,!=2.5.*,!=2.6.*,!=2.7.*,!=2.8.*,!=2.9.*,<3.0.0dev,>=1.34.1->google-cloud-vision->unstructured[pdf]==0.15.0->-r requirements.txt (line 10)) (1.48.2)\n",
            "Requirement already satisfied: cachetools<6.0,>=2.0.0 in /usr/local/lib/python3.10/dist-packages (from google-auth>=1.0.1->kubernetes>=28.1.0->chromadb==0.5.5->-r requirements.txt (line 1)) (5.4.0)\n",
            "Requirement already satisfied: pyasn1-modules>=0.2.1 in /usr/local/lib/python3.10/dist-packages (from google-auth>=1.0.1->kubernetes>=28.1.0->chromadb==0.5.5->-r requirements.txt (line 1)) (0.4.0)\n",
            "Requirement already satisfied: rsa<5,>=3.1.4 in /usr/local/lib/python3.10/dist-packages (from google-auth>=1.0.1->kubernetes>=28.1.0->chromadb==0.5.5->-r requirements.txt (line 1)) (4.9)\n",
            "Requirement already satisfied: zipp>=0.5 in /usr/local/lib/python3.10/dist-packages (from importlib-metadata<=8.0.0,>=6.0->opentelemetry-api>=1.2.0->chromadb==0.5.5->-r requirements.txt (line 1)) (3.20.0)\n",
            "Collecting jsonpointer>=1.9 (from jsonpatch<2.0,>=1.33->langchain-core<0.3,>=0.1.40->langchain-chroma==0.1.2->-r requirements.txt (line 2))\n",
            "  Downloading jsonpointer-3.0.0-py2.py3-none-any.whl.metadata (2.3 kB)\n",
            "Collecting antlr4-python3-runtime==4.9.* (from omegaconf>=2.0->effdet->unstructured[pdf]==0.15.0->-r requirements.txt (line 10))\n",
            "  Downloading antlr4-python3-runtime-4.9.3.tar.gz (117 kB)\n",
            "\u001b[2K     \u001b[90m━━━━━━━━━━━━━━━━━━━━━━━━━━━━━━━━━━━━━━━━\u001b[0m \u001b[32m117.0/117.0 kB\u001b[0m \u001b[31m11.0 MB/s\u001b[0m eta \u001b[36m0:00:00\u001b[0m\n",
            "\u001b[?25h  Preparing metadata (setup.py) ... \u001b[?25l\u001b[?25hdone\n",
            "Requirement already satisfied: contourpy>=1.0.1 in /usr/local/lib/python3.10/dist-packages (from matplotlib->unstructured-inference==0.7.36->unstructured[pdf]==0.15.0->-r requirements.txt (line 10)) (1.2.1)\n",
            "Requirement already satisfied: cycler>=0.10 in /usr/local/lib/python3.10/dist-packages (from matplotlib->unstructured-inference==0.7.36->unstructured[pdf]==0.15.0->-r requirements.txt (line 10)) (0.12.1)\n",
            "Requirement already satisfied: fonttools>=4.22.0 in /usr/local/lib/python3.10/dist-packages (from matplotlib->unstructured-inference==0.7.36->unstructured[pdf]==0.15.0->-r requirements.txt (line 10)) (4.53.1)\n",
            "Requirement already satisfied: kiwisolver>=1.0.1 in /usr/local/lib/python3.10/dist-packages (from matplotlib->unstructured-inference==0.7.36->unstructured[pdf]==0.15.0->-r requirements.txt (line 10)) (1.4.5)\n",
            "Requirement already satisfied: pyparsing>=2.3.1 in /usr/local/lib/python3.10/dist-packages (from matplotlib->unstructured-inference==0.7.36->unstructured[pdf]==0.15.0->-r requirements.txt (line 10)) (3.1.2)\n",
            "Requirement already satisfied: markdown-it-py>=2.2.0 in /usr/local/lib/python3.10/dist-packages (from rich>=10.11.0->typer>=0.9.0->chromadb==0.5.5->-r requirements.txt (line 1)) (3.0.0)\n",
            "Requirement already satisfied: pygments<3.0.0,>=2.13.0 in /usr/local/lib/python3.10/dist-packages (from rich>=10.11.0->typer>=0.9.0->chromadb==0.5.5->-r requirements.txt (line 1)) (2.16.1)\n",
            "Collecting humanfriendly>=9.1 (from coloredlogs->onnxruntime>=1.14.1->chromadb==0.5.5->-r requirements.txt (line 1))\n",
            "  Downloading humanfriendly-10.0-py2.py3-none-any.whl.metadata (9.2 kB)\n",
            "Requirement already satisfied: MarkupSafe>=2.0 in /usr/local/lib/python3.10/dist-packages (from jinja2->torch>=1.11.0->sentence-transformers==3.0.1->-r requirements.txt (line 8)) (2.1.5)\n",
            "Requirement already satisfied: pandas in /usr/local/lib/python3.10/dist-packages (from layoutparser->unstructured-inference==0.7.36->unstructured[pdf]==0.15.0->-r requirements.txt (line 10)) (2.1.4)\n",
            "Collecting iopath (from layoutparser->unstructured-inference==0.7.36->unstructured[pdf]==0.15.0->-r requirements.txt (line 10))\n",
            "  Downloading iopath-0.1.10.tar.gz (42 kB)\n",
            "\u001b[2K     \u001b[90m━━━━━━━━━━━━━━━━━━━━━━━━━━━━━━━━━━━━━━━━\u001b[0m \u001b[32m42.2/42.2 kB\u001b[0m \u001b[31m3.6 MB/s\u001b[0m eta \u001b[36m0:00:00\u001b[0m\n",
            "\u001b[?25h  Preparing metadata (setup.py) ... \u001b[?25l\u001b[?25hdone\n",
            "Collecting pdfplumber (from layoutparser->unstructured-inference==0.7.36->unstructured[pdf]==0.15.0->-r requirements.txt (line 10))\n",
            "  Downloading pdfplumber-0.11.4-py3-none-any.whl.metadata (41 kB)\n",
            "\u001b[2K     \u001b[90m━━━━━━━━━━━━━━━━━━━━━━━━━━━━━━━━━━━━━━━━\u001b[0m \u001b[32m42.0/42.0 kB\u001b[0m \u001b[31m3.3 MB/s\u001b[0m eta \u001b[36m0:00:00\u001b[0m\n",
            "\u001b[?25hRequirement already satisfied: mpmath<1.4,>=1.1.0 in /usr/local/lib/python3.10/dist-packages (from sympy->onnxruntime>=1.14.1->chromadb==0.5.5->-r requirements.txt (line 1)) (1.3.0)\n",
            "Requirement already satisfied: pycparser in /usr/local/lib/python3.10/dist-packages (from cffi>=1.12->cryptography>=36.0.0->pdfminer.six->unstructured[pdf]==0.15.0->-r requirements.txt (line 10)) (2.22)\n",
            "Requirement already satisfied: mdurl~=0.1 in /usr/local/lib/python3.10/dist-packages (from markdown-it-py>=2.2.0->rich>=10.11.0->typer>=0.9.0->chromadb==0.5.5->-r requirements.txt (line 1)) (0.1.2)\n",
            "Requirement already satisfied: pyasn1<0.7.0,>=0.4.6 in /usr/local/lib/python3.10/dist-packages (from pyasn1-modules>=0.2.1->google-auth>=1.0.1->kubernetes>=28.1.0->chromadb==0.5.5->-r requirements.txt (line 1)) (0.6.0)\n",
            "Collecting portalocker (from iopath->layoutparser->unstructured-inference==0.7.36->unstructured[pdf]==0.15.0->-r requirements.txt (line 10))\n",
            "  Downloading portalocker-2.10.1-py3-none-any.whl.metadata (8.5 kB)\n",
            "Requirement already satisfied: pytz>=2020.1 in /usr/local/lib/python3.10/dist-packages (from pandas->layoutparser->unstructured-inference==0.7.36->unstructured[pdf]==0.15.0->-r requirements.txt (line 10)) (2024.1)\n",
            "Requirement already satisfied: tzdata>=2022.1 in /usr/local/lib/python3.10/dist-packages (from pandas->layoutparser->unstructured-inference==0.7.36->unstructured[pdf]==0.15.0->-r requirements.txt (line 10)) (2024.1)\n",
            "Collecting pdfminer.six (from unstructured[pdf]==0.15.0->-r requirements.txt (line 10))\n",
            "  Downloading pdfminer.six-20231228-py3-none-any.whl.metadata (4.2 kB)\n",
            "Collecting pypdfium2>=4.18.0 (from pdfplumber->layoutparser->unstructured-inference==0.7.36->unstructured[pdf]==0.15.0->-r requirements.txt (line 10))\n",
            "  Downloading pypdfium2-4.30.0-py3-none-manylinux_2_17_x86_64.manylinux2014_x86_64.whl.metadata (48 kB)\n",
            "\u001b[2K     \u001b[90m━━━━━━━━━━━━━━━━━━━━━━━━━━━━━━━━━━━━━━━━\u001b[0m \u001b[32m48.5/48.5 kB\u001b[0m \u001b[31m3.5 MB/s\u001b[0m eta \u001b[36m0:00:00\u001b[0m\n",
            "\u001b[?25hDownloading chromadb-0.5.5-py3-none-any.whl (584 kB)\n",
            "\u001b[2K   \u001b[90m━━━━━━━━━━━━━━━━━━━━━━━━━━━━━━━━━━━━━━━━\u001b[0m \u001b[32m584.3/584.3 kB\u001b[0m \u001b[31m41.1 MB/s\u001b[0m eta \u001b[36m0:00:00\u001b[0m\n",
            "\u001b[?25hDownloading langchain_chroma-0.1.2-py3-none-any.whl (9.3 kB)\n",
            "Downloading langchain-0.2.11-py3-none-any.whl (990 kB)\n",
            "\u001b[2K   \u001b[90m━━━━━━━━━━━━━━━━━━━━━━━━━━━━━━━━━━━━━━━━\u001b[0m \u001b[32m990.3/990.3 kB\u001b[0m \u001b[31m56.1 MB/s\u001b[0m eta \u001b[36m0:00:00\u001b[0m\n",
            "\u001b[?25hDownloading langchain_community-0.2.10-py3-none-any.whl (2.3 MB)\n",
            "\u001b[2K   \u001b[90m━━━━━━━━━━━━━━━━━━━━━━━━━━━━━━━━━━━━━━━━\u001b[0m \u001b[32m2.3/2.3 MB\u001b[0m \u001b[31m82.0 MB/s\u001b[0m eta \u001b[36m0:00:00\u001b[0m\n",
            "\u001b[?25hDownloading langchain_text_splitters-0.2.2-py3-none-any.whl (25 kB)\n",
            "Downloading langchain_groq-0.1.6-py3-none-any.whl (14 kB)\n",
            "Downloading transformers-4.43.2-py3-none-any.whl (9.4 MB)\n",
            "\u001b[2K   \u001b[90m━━━━━━━━━━━━━━━━━━━━━━━━━━━━━━━━━━━━━━━━\u001b[0m \u001b[32m9.4/9.4 MB\u001b[0m \u001b[31m115.9 MB/s\u001b[0m eta \u001b[36m0:00:00\u001b[0m\n",
            "\u001b[?25hDownloading sentence_transformers-3.0.1-py3-none-any.whl (227 kB)\n",
            "\u001b[2K   \u001b[90m━━━━━━━━━━━━━━━━━━━━━━━━━━━━━━━━━━━━━━━━\u001b[0m \u001b[32m227.1/227.1 kB\u001b[0m \u001b[31m20.2 MB/s\u001b[0m eta \u001b[36m0:00:00\u001b[0m\n",
            "\u001b[?25hDownloading unstructured-0.15.0-py3-none-any.whl (2.1 MB)\n",
            "\u001b[2K   \u001b[90m━━━━━━━━━━━━━━━━━━━━━━━━━━━━━━━━━━━━━━━━\u001b[0m \u001b[32m2.1/2.1 MB\u001b[0m \u001b[31m80.5 MB/s\u001b[0m eta \u001b[36m0:00:00\u001b[0m\n",
            "\u001b[?25hDownloading chroma_hnswlib-0.7.6-cp310-cp310-manylinux_2_17_x86_64.manylinux2014_x86_64.whl (2.4 MB)\n",
            "\u001b[2K   \u001b[90m━━━━━━━━━━━━━━━━━━━━━━━━━━━━━━━━━━━━━━━━\u001b[0m \u001b[32m2.4/2.4 MB\u001b[0m \u001b[31m89.1 MB/s\u001b[0m eta \u001b[36m0:00:00\u001b[0m\n",
            "\u001b[?25hDownloading unstructured_inference-0.7.36-py3-none-any.whl (56 kB)\n",
            "\u001b[2K   \u001b[90m━━━━━━━━━━━━━━━━━━━━━━━━━━━━━━━━━━━━━━━━\u001b[0m \u001b[32m56.4/56.4 kB\u001b[0m \u001b[31m5.0 MB/s\u001b[0m eta \u001b[36m0:00:00\u001b[0m\n",
            "\u001b[?25hDownloading bcrypt-4.2.0-cp39-abi3-manylinux_2_28_x86_64.whl (273 kB)\n",
            "\u001b[2K   \u001b[90m━━━━━━━━━━━━━━━━━━━━━━━━━━━━━━━━━━━━━━━━\u001b[0m \u001b[32m273.8/273.8 kB\u001b[0m \u001b[31m22.7 MB/s\u001b[0m eta \u001b[36m0:00:00\u001b[0m\n",
            "\u001b[?25hDownloading dataclasses_json-0.6.7-py3-none-any.whl (28 kB)\n",
            "Downloading fastapi-0.112.1-py3-none-any.whl (93 kB)\n",
            "\u001b[2K   \u001b[90m━━━━━━━━━━━━━━━━━━━━━━━━━━━━━━━━━━━━━━━━\u001b[0m \u001b[32m93.2/93.2 kB\u001b[0m \u001b[31m9.0 MB/s\u001b[0m eta \u001b[36m0:00:00\u001b[0m\n",
            "\u001b[?25hDownloading groq-0.9.0-py3-none-any.whl (103 kB)\n",
            "\u001b[2K   \u001b[90m━━━━━━━━━━━━━━━━━━━━━━━━━━━━━━━━━━━━━━━━\u001b[0m \u001b[32m103.5/103.5 kB\u001b[0m \u001b[31m9.6 MB/s\u001b[0m eta \u001b[36m0:00:00\u001b[0m\n",
            "\u001b[?25hDownloading httpx-0.27.0-py3-none-any.whl (75 kB)\n",
            "\u001b[2K   \u001b[90m━━━━━━━━━━━━━━━━━━━━━━━━━━━━━━━━━━━━━━━━\u001b[0m \u001b[32m75.6/75.6 kB\u001b[0m \u001b[31m7.4 MB/s\u001b[0m eta \u001b[36m0:00:00\u001b[0m\n",
            "\u001b[?25hDownloading httpcore-1.0.5-py3-none-any.whl (77 kB)\n",
            "\u001b[2K   \u001b[90m━━━━━━━━━━━━━━━━━━━━━━━━━━━━━━━━━━━━━━━━\u001b[0m \u001b[32m77.9/77.9 kB\u001b[0m \u001b[31m7.5 MB/s\u001b[0m eta \u001b[36m0:00:00\u001b[0m\n",
            "\u001b[?25hDownloading kubernetes-30.1.0-py2.py3-none-any.whl (1.7 MB)\n",
            "\u001b[2K   \u001b[90m━━━━━━━━━━━━━━━━━━━━━━━━━━━━━━━━━━━━━━━━\u001b[0m \u001b[32m1.7/1.7 MB\u001b[0m \u001b[31m75.8 MB/s\u001b[0m eta \u001b[36m0:00:00\u001b[0m\n",
            "\u001b[?25hDownloading langchain_core-0.2.34-py3-none-any.whl (393 kB)\n",
            "\u001b[2K   \u001b[90m━━━━━━━━━━━━━━━━━━━━━━━━━━━━━━━━━━━━━━━━\u001b[0m \u001b[32m393.9/393.9 kB\u001b[0m \u001b[31m33.3 MB/s\u001b[0m eta \u001b[36m0:00:00\u001b[0m\n",
            "\u001b[?25hDownloading langsmith-0.1.101-py3-none-any.whl (148 kB)\n",
            "\u001b[2K   \u001b[90m━━━━━━━━━━━━━━━━━━━━━━━━━━━━━━━━━━━━━━━━\u001b[0m \u001b[32m148.9/148.9 kB\u001b[0m \u001b[31m12.9 MB/s\u001b[0m eta \u001b[36m0:00:00\u001b[0m\n",
            "\u001b[?25hDownloading mmh3-4.1.0-cp310-cp310-manylinux_2_5_x86_64.manylinux1_x86_64.manylinux_2_17_x86_64.manylinux2014_x86_64.whl (67 kB)\n",
            "\u001b[2K   \u001b[90m━━━━━━━━━━━━━━━━━━━━━━━━━━━━━━━━━━━━━━━━\u001b[0m \u001b[32m67.6/67.6 kB\u001b[0m \u001b[31m6.7 MB/s\u001b[0m eta \u001b[36m0:00:00\u001b[0m\n",
            "\u001b[?25hDownloading onnxruntime-1.19.0-cp310-cp310-manylinux_2_27_x86_64.manylinux_2_28_x86_64.whl (13.2 MB)\n",
            "\u001b[2K   \u001b[90m━━━━━━━━━━━━━━━━━━━━━━━━━━━━━━━━━━━━━━━━\u001b[0m \u001b[32m13.2/13.2 MB\u001b[0m \u001b[31m110.0 MB/s\u001b[0m eta \u001b[36m0:00:00\u001b[0m\n",
            "\u001b[?25hDownloading opentelemetry_api-1.26.0-py3-none-any.whl (61 kB)\n",
            "\u001b[2K   \u001b[90m━━━━━━━━━━━━━━━━━━━━━━━━━━━━━━━━━━━━━━━━\u001b[0m \u001b[32m61.5/61.5 kB\u001b[0m \u001b[31m5.5 MB/s\u001b[0m eta \u001b[36m0:00:00\u001b[0m\n",
            "\u001b[?25hDownloading opentelemetry_exporter_otlp_proto_grpc-1.26.0-py3-none-any.whl (18 kB)\n",
            "Downloading opentelemetry_exporter_otlp_proto_common-1.26.0-py3-none-any.whl (17 kB)\n",
            "Downloading opentelemetry_proto-1.26.0-py3-none-any.whl (52 kB)\n",
            "\u001b[2K   \u001b[90m━━━━━━━━━━━━━━━━━━━━━━━━━━━━━━━━━━━━━━━━\u001b[0m \u001b[32m52.5/52.5 kB\u001b[0m \u001b[31m4.6 MB/s\u001b[0m eta \u001b[36m0:00:00\u001b[0m\n",
            "\u001b[?25hDownloading opentelemetry_instrumentation_fastapi-0.47b0-py3-none-any.whl (11 kB)\n",
            "Downloading opentelemetry_instrumentation-0.47b0-py3-none-any.whl (29 kB)\n",
            "Downloading opentelemetry_instrumentation_asgi-0.47b0-py3-none-any.whl (15 kB)\n",
            "Downloading opentelemetry_semantic_conventions-0.47b0-py3-none-any.whl (138 kB)\n",
            "\u001b[2K   \u001b[90m━━━━━━━━━━━━━━━━━━━━━━━━━━━━━━━━━━━━━━━━\u001b[0m \u001b[32m138.0/138.0 kB\u001b[0m \u001b[31m12.8 MB/s\u001b[0m eta \u001b[36m0:00:00\u001b[0m\n",
            "\u001b[?25hDownloading opentelemetry_util_http-0.47b0-py3-none-any.whl (6.9 kB)\n",
            "Downloading opentelemetry_sdk-1.26.0-py3-none-any.whl (109 kB)\n",
            "\u001b[2K   \u001b[90m━━━━━━━━━━━━━━━━━━━━━━━━━━━━━━━━━━━━━━━━\u001b[0m \u001b[32m109.5/109.5 kB\u001b[0m \u001b[31m10.8 MB/s\u001b[0m eta \u001b[36m0:00:00\u001b[0m\n",
            "\u001b[?25hDownloading orjson-3.10.7-cp310-cp310-manylinux_2_17_x86_64.manylinux2014_x86_64.whl (141 kB)\n",
            "\u001b[2K   \u001b[90m━━━━━━━━━━━━━━━━━━━━━━━━━━━━━━━━━━━━━━━━\u001b[0m \u001b[32m141.9/141.9 kB\u001b[0m \u001b[31m13.4 MB/s\u001b[0m eta \u001b[36m0:00:00\u001b[0m\n",
            "\u001b[?25hDownloading overrides-7.7.0-py3-none-any.whl (17 kB)\n",
            "Downloading posthog-3.5.2-py2.py3-none-any.whl (41 kB)\n",
            "\u001b[2K   \u001b[90m━━━━━━━━━━━━━━━━━━━━━━━━━━━━━━━━━━━━━━━━\u001b[0m \u001b[32m41.5/41.5 kB\u001b[0m \u001b[31m3.8 MB/s\u001b[0m eta \u001b[36m0:00:00\u001b[0m\n",
            "\u001b[?25hDownloading backoff-2.2.1-py3-none-any.whl (15 kB)\n",
            "Downloading tenacity-8.5.0-py3-none-any.whl (28 kB)\n",
            "Using cached nvidia_cublas_cu12-12.1.3.1-py3-none-manylinux1_x86_64.whl (410.6 MB)\n",
            "Using cached nvidia_cuda_cupti_cu12-12.1.105-py3-none-manylinux1_x86_64.whl (14.1 MB)\n",
            "Using cached nvidia_cuda_nvrtc_cu12-12.1.105-py3-none-manylinux1_x86_64.whl (23.7 MB)\n",
            "Using cached nvidia_cuda_runtime_cu12-12.1.105-py3-none-manylinux1_x86_64.whl (823 kB)\n",
            "Using cached nvidia_cudnn_cu12-8.9.2.26-py3-none-manylinux1_x86_64.whl (731.7 MB)\n",
            "Using cached nvidia_cufft_cu12-11.0.2.54-py3-none-manylinux1_x86_64.whl (121.6 MB)\n",
            "Using cached nvidia_curand_cu12-10.3.2.106-py3-none-manylinux1_x86_64.whl (56.5 MB)\n",
            "Using cached nvidia_cusolver_cu12-11.4.5.107-py3-none-manylinux1_x86_64.whl (124.2 MB)\n",
            "Using cached nvidia_cusparse_cu12-12.1.0.106-py3-none-manylinux1_x86_64.whl (196.0 MB)\n",
            "Using cached nvidia_nccl_cu12-2.20.5-py3-none-manylinux2014_x86_64.whl (176.2 MB)\n",
            "Using cached nvidia_nvtx_cu12-12.1.105-py3-none-manylinux1_x86_64.whl (99 kB)\n",
            "Downloading unstructured.pytesseract-0.3.13-py3-none-any.whl (14 kB)\n",
            "Downloading uvicorn-0.30.6-py3-none-any.whl (62 kB)\n",
            "\u001b[2K   \u001b[90m━━━━━━━━━━━━━━━━━━━━━━━━━━━━━━━━━━━━━━━━\u001b[0m \u001b[32m62.8/62.8 kB\u001b[0m \u001b[31m5.8 MB/s\u001b[0m eta \u001b[36m0:00:00\u001b[0m\n",
            "\u001b[?25hDownloading effdet-0.4.1-py3-none-any.whl (112 kB)\n",
            "\u001b[2K   \u001b[90m━━━━━━━━━━━━━━━━━━━━━━━━━━━━━━━━━━━━━━━━\u001b[0m \u001b[32m112.5/112.5 kB\u001b[0m \u001b[31m9.6 MB/s\u001b[0m eta \u001b[36m0:00:00\u001b[0m\n",
            "\u001b[?25hDownloading emoji-2.12.1-py3-none-any.whl (431 kB)\n",
            "\u001b[2K   \u001b[90m━━━━━━━━━━━━━━━━━━━━━━━━━━━━━━━━━━━━━━━━\u001b[0m \u001b[32m431.4/431.4 kB\u001b[0m \u001b[31m24.1 MB/s\u001b[0m eta \u001b[36m0:00:00\u001b[0m\n",
            "\u001b[?25hDownloading filetype-1.2.0-py2.py3-none-any.whl (19 kB)\n",
            "Downloading google_cloud_vision-3.7.4-py2.py3-none-any.whl (467 kB)\n",
            "\u001b[2K   \u001b[90m━━━━━━━━━━━━━━━━━━━━━━━━━━━━━━━━━━━━━━━━\u001b[0m \u001b[32m467.5/467.5 kB\u001b[0m \u001b[31m33.9 MB/s\u001b[0m eta \u001b[36m0:00:00\u001b[0m\n",
            "\u001b[?25hDownloading onnx-1.16.2-cp310-cp310-manylinux_2_17_x86_64.manylinux2014_x86_64.whl (15.9 MB)\n",
            "\u001b[2K   \u001b[90m━━━━━━━━━━━━━━━━━━━━━━━━━━━━━━━━━━━━━━━━\u001b[0m \u001b[32m15.9/15.9 MB\u001b[0m \u001b[31m19.1 MB/s\u001b[0m eta \u001b[36m0:00:00\u001b[0m\n",
            "\u001b[?25hDownloading pdf2image-1.17.0-py3-none-any.whl (11 kB)\n",
            "Downloading pikepdf-9.1.2-cp310-cp310-manylinux_2_17_x86_64.manylinux2014_x86_64.whl (2.4 MB)\n",
            "\u001b[2K   \u001b[90m━━━━━━━━━━━━━━━━━━━━━━━━━━━━━━━━━━━━━━━━\u001b[0m \u001b[32m2.4/2.4 MB\u001b[0m \u001b[31m57.8 MB/s\u001b[0m eta \u001b[36m0:00:00\u001b[0m\n",
            "\u001b[?25hDownloading pillow-10.4.0-cp310-cp310-manylinux_2_28_x86_64.whl (4.5 MB)\n",
            "\u001b[2K   \u001b[90m━━━━━━━━━━━━━━━━━━━━━━━━━━━━━━━━━━━━━━━━\u001b[0m \u001b[32m4.5/4.5 MB\u001b[0m \u001b[31m77.7 MB/s\u001b[0m eta \u001b[36m0:00:00\u001b[0m\n",
            "\u001b[?25hDownloading pillow_heif-0.18.0-cp310-cp310-manylinux_2_17_x86_64.manylinux2014_x86_64.whl (7.6 MB)\n",
            "\u001b[2K   \u001b[90m━━━━━━━━━━━━━━━━━━━━━━━━━━━━━━━━━━━━━━━━\u001b[0m \u001b[32m7.6/7.6 MB\u001b[0m \u001b[31m80.1 MB/s\u001b[0m eta \u001b[36m0:00:00\u001b[0m\n",
            "\u001b[?25hDownloading pypdf-4.3.1-py3-none-any.whl (295 kB)\n",
            "\u001b[2K   \u001b[90m━━━━━━━━━━━━━━━━━━━━━━━━━━━━━━━━━━━━━━━━\u001b[0m \u001b[32m295.8/295.8 kB\u001b[0m \u001b[31m24.0 MB/s\u001b[0m eta \u001b[36m0:00:00\u001b[0m\n",
            "\u001b[?25hDownloading pytesseract-0.3.13-py3-none-any.whl (14 kB)\n",
            "Downloading python_iso639-2024.4.27-py3-none-any.whl (274 kB)\n",
            "\u001b[2K   \u001b[90m━━━━━━━━━━━━━━━━━━━━━━━━━━━━━━━━━━━━━━━━\u001b[0m \u001b[32m274.7/274.7 kB\u001b[0m \u001b[31m24.3 MB/s\u001b[0m eta \u001b[36m0:00:00\u001b[0m\n",
            "\u001b[?25hDownloading python_magic-0.4.27-py2.py3-none-any.whl (13 kB)\n",
            "Downloading rapidfuzz-3.9.6-cp310-cp310-manylinux_2_17_x86_64.manylinux2014_x86_64.whl (3.4 MB)\n",
            "\u001b[2K   \u001b[90m━━━━━━━━━━━━━━━━━━━━━━━━━━━━━━━━━━━━━━━━\u001b[0m \u001b[32m3.4/3.4 MB\u001b[0m \u001b[31m73.5 MB/s\u001b[0m eta \u001b[36m0:00:00\u001b[0m\n",
            "\u001b[?25hDownloading unstructured_client-0.25.5-py3-none-any.whl (43 kB)\n",
            "\u001b[2K   \u001b[90m━━━━━━━━━━━━━━━━━━━━━━━━━━━━━━━━━━━━━━━━\u001b[0m \u001b[32m43.9/43.9 kB\u001b[0m \u001b[31m3.5 MB/s\u001b[0m eta \u001b[36m0:00:00\u001b[0m\n",
            "\u001b[?25hDownloading deepdiff-7.0.1-py3-none-any.whl (80 kB)\n",
            "\u001b[2K   \u001b[90m━━━━━━━━━━━━━━━━━━━━━━━━━━━━━━━━━━━━━━━━\u001b[0m \u001b[32m80.8/80.8 kB\u001b[0m \u001b[31m6.8 MB/s\u001b[0m eta \u001b[36m0:00:00\u001b[0m\n",
            "\u001b[?25hDownloading Deprecated-1.2.14-py2.py3-none-any.whl (9.6 kB)\n",
            "Downloading h11-0.14.0-py3-none-any.whl (58 kB)\n",
            "\u001b[2K   \u001b[90m━━━━━━━━━━━━━━━━━━━━━━━━━━━━━━━━━━━━━━━━\u001b[0m \u001b[32m58.3/58.3 kB\u001b[0m \u001b[31m5.3 MB/s\u001b[0m eta \u001b[36m0:00:00\u001b[0m\n",
            "\u001b[?25hDownloading httptools-0.6.1-cp310-cp310-manylinux_2_5_x86_64.manylinux1_x86_64.manylinux_2_17_x86_64.manylinux2014_x86_64.whl (341 kB)\n",
            "\u001b[2K   \u001b[90m━━━━━━━━━━━━━━━━━━━━━━━━━━━━━━━━━━━━━━━━\u001b[0m \u001b[32m341.4/341.4 kB\u001b[0m \u001b[31m25.6 MB/s\u001b[0m eta \u001b[36m0:00:00\u001b[0m\n",
            "\u001b[?25hDownloading importlib_metadata-8.0.0-py3-none-any.whl (24 kB)\n",
            "Downloading jsonpatch-1.33-py2.py3-none-any.whl (12 kB)\n",
            "Downloading jsonpath_python-1.0.6-py3-none-any.whl (7.6 kB)\n",
            "Downloading marshmallow-3.22.0-py3-none-any.whl (49 kB)\n",
            "\u001b[2K   \u001b[90m━━━━━━━━━━━━━━━━━━━━━━━━━━━━━━━━━━━━━━━━\u001b[0m \u001b[32m49.3/49.3 kB\u001b[0m \u001b[31m4.1 MB/s\u001b[0m eta \u001b[36m0:00:00\u001b[0m\n",
            "\u001b[?25hDownloading monotonic-1.6-py2.py3-none-any.whl (8.2 kB)\n",
            "Downloading mypy_extensions-1.0.0-py3-none-any.whl (4.7 kB)\n",
            "Downloading omegaconf-2.3.0-py3-none-any.whl (79 kB)\n",
            "\u001b[2K   \u001b[90m━━━━━━━━━━━━━━━━━━━━━━━━━━━━━━━━━━━━━━━━\u001b[0m \u001b[32m79.5/79.5 kB\u001b[0m \u001b[31m7.6 MB/s\u001b[0m eta \u001b[36m0:00:00\u001b[0m\n",
            "\u001b[?25hDownloading python_dotenv-1.0.1-py3-none-any.whl (19 kB)\n",
            "Downloading requests_toolbelt-1.0.0-py2.py3-none-any.whl (54 kB)\n",
            "\u001b[2K   \u001b[90m━━━━━━━━━━━━━━━━━━━━━━━━━━━━━━━━━━━━━━━━\u001b[0m \u001b[32m54.5/54.5 kB\u001b[0m \u001b[31m4.4 MB/s\u001b[0m eta \u001b[36m0:00:00\u001b[0m\n",
            "\u001b[?25hDownloading starlette-0.38.2-py3-none-any.whl (72 kB)\n",
            "\u001b[2K   \u001b[90m━━━━━━━━━━━━━━━━━━━━━━━━━━━━━━━━━━━━━━━━\u001b[0m \u001b[32m72.0/72.0 kB\u001b[0m \u001b[31m7.2 MB/s\u001b[0m eta \u001b[36m0:00:00\u001b[0m\n",
            "\u001b[?25hDownloading timm-1.0.8-py3-none-any.whl (2.3 MB)\n",
            "\u001b[2K   \u001b[90m━━━━━━━━━━━━━━━━━━━━━━━━━━━━━━━━━━━━━━━━\u001b[0m \u001b[32m2.3/2.3 MB\u001b[0m \u001b[31m90.6 MB/s\u001b[0m eta \u001b[36m0:00:00\u001b[0m\n",
            "\u001b[?25hDownloading typing_inspect-0.9.0-py3-none-any.whl (8.8 kB)\n",
            "Downloading uvloop-0.20.0-cp310-cp310-manylinux_2_17_x86_64.manylinux2014_x86_64.whl (3.4 MB)\n",
            "\u001b[2K   \u001b[90m━━━━━━━━━━━━━━━━━━━━━━━━━━━━━━━━━━━━━━━━\u001b[0m \u001b[32m3.4/3.4 MB\u001b[0m \u001b[31m97.8 MB/s\u001b[0m eta \u001b[36m0:00:00\u001b[0m\n",
            "\u001b[?25hDownloading watchfiles-0.23.0-cp310-cp310-manylinux_2_17_x86_64.manylinux2014_x86_64.whl (427 kB)\n",
            "\u001b[2K   \u001b[90m━━━━━━━━━━━━━━━━━━━━━━━━━━━━━━━━━━━━━━━━\u001b[0m \u001b[32m427.7/427.7 kB\u001b[0m \u001b[31m31.8 MB/s\u001b[0m eta \u001b[36m0:00:00\u001b[0m\n",
            "\u001b[?25hDownloading websockets-13.0-cp310-cp310-manylinux_2_5_x86_64.manylinux1_x86_64.manylinux_2_17_x86_64.manylinux2014_x86_64.whl (157 kB)\n",
            "\u001b[2K   \u001b[90m━━━━━━━━━━━━━━━━━━━━━━━━━━━━━━━━━━━━━━━━\u001b[0m \u001b[32m157.2/157.2 kB\u001b[0m \u001b[31m13.8 MB/s\u001b[0m eta \u001b[36m0:00:00\u001b[0m\n",
            "\u001b[?25hDownloading coloredlogs-15.0.1-py2.py3-none-any.whl (46 kB)\n",
            "\u001b[2K   \u001b[90m━━━━━━━━━━━━━━━━━━━━━━━━━━━━━━━━━━━━━━━━\u001b[0m \u001b[32m46.0/46.0 kB\u001b[0m \u001b[31m4.3 MB/s\u001b[0m eta \u001b[36m0:00:00\u001b[0m\n",
            "\u001b[?25hDownloading layoutparser-0.3.4-py3-none-any.whl (19.2 MB)\n",
            "\u001b[2K   \u001b[90m━━━━━━━━━━━━━━━━━━━━━━━━━━━━━━━━━━━━━━━━\u001b[0m \u001b[32m19.2/19.2 MB\u001b[0m \u001b[31m20.0 MB/s\u001b[0m eta \u001b[36m0:00:00\u001b[0m\n",
            "\u001b[?25hDownloading python_multipart-0.0.9-py3-none-any.whl (22 kB)\n",
            "Downloading asgiref-3.8.1-py3-none-any.whl (23 kB)\n",
            "Downloading humanfriendly-10.0-py2.py3-none-any.whl (86 kB)\n",
            "\u001b[2K   \u001b[90m━━━━━━━━━━━━━━━━━━━━━━━━━━━━━━━━━━━━━━━━\u001b[0m \u001b[32m86.8/86.8 kB\u001b[0m \u001b[31m8.2 MB/s\u001b[0m eta \u001b[36m0:00:00\u001b[0m\n",
            "\u001b[?25hDownloading jsonpointer-3.0.0-py2.py3-none-any.whl (7.6 kB)\n",
            "Downloading ordered_set-4.1.0-py3-none-any.whl (7.6 kB)\n",
            "Using cached nvidia_nvjitlink_cu12-12.6.20-py3-none-manylinux2014_x86_64.whl (19.7 MB)\n",
            "Downloading pdfplumber-0.11.4-py3-none-any.whl (59 kB)\n",
            "\u001b[2K   \u001b[90m━━━━━━━━━━━━━━━━━━━━━━━━━━━━━━━━━━━━━━━━\u001b[0m \u001b[32m59.2/59.2 kB\u001b[0m \u001b[31m5.4 MB/s\u001b[0m eta \u001b[36m0:00:00\u001b[0m\n",
            "\u001b[?25hDownloading pdfminer.six-20231228-py3-none-any.whl (5.6 MB)\n",
            "\u001b[2K   \u001b[90m━━━━━━━━━━━━━━━━━━━━━━━━━━━━━━━━━━━━━━━━\u001b[0m \u001b[32m5.6/5.6 MB\u001b[0m \u001b[31m97.1 MB/s\u001b[0m eta \u001b[36m0:00:00\u001b[0m\n",
            "\u001b[?25hDownloading pypdfium2-4.30.0-py3-none-manylinux_2_17_x86_64.manylinux2014_x86_64.whl (2.8 MB)\n",
            "\u001b[2K   \u001b[90m━━━━━━━━━━━━━━━━━━━━━━━━━━━━━━━━━━━━━━━━\u001b[0m \u001b[32m2.8/2.8 MB\u001b[0m \u001b[31m94.1 MB/s\u001b[0m eta \u001b[36m0:00:00\u001b[0m\n",
            "\u001b[?25hDownloading portalocker-2.10.1-py3-none-any.whl (18 kB)\n",
            "Building wheels for collected packages: pypika, langdetect, antlr4-python3-runtime, iopath\n",
            "  Building wheel for pypika (pyproject.toml) ... \u001b[?25l\u001b[?25hdone\n",
            "  Created wheel for pypika: filename=PyPika-0.48.9-py2.py3-none-any.whl size=53724 sha256=66d78bb27c840e3a0700d807875816241a374d01e9eb039cd70aff87655a0403\n",
            "  Stored in directory: /root/.cache/pip/wheels/e1/26/51/d0bffb3d2fd82256676d7ad3003faea3bd6dddc9577af665f4\n",
            "  Building wheel for langdetect (setup.py) ... \u001b[?25l\u001b[?25hdone\n",
            "  Created wheel for langdetect: filename=langdetect-1.0.9-py3-none-any.whl size=993221 sha256=f79f0bd3dd5ff32497b3a8b9a0972ae5a55954e2f321a8d7f4f091003a370339\n",
            "  Stored in directory: /root/.cache/pip/wheels/95/03/7d/59ea870c70ce4e5a370638b5462a7711ab78fba2f655d05106\n",
            "  Building wheel for antlr4-python3-runtime (setup.py) ... \u001b[?25l\u001b[?25hdone\n",
            "  Created wheel for antlr4-python3-runtime: filename=antlr4_python3_runtime-4.9.3-py3-none-any.whl size=144554 sha256=96f0cffc9c522015ae7da57efec4fe8458ba0ee48c0afc93623aadc27093f73f\n",
            "  Stored in directory: /root/.cache/pip/wheels/12/93/dd/1f6a127edc45659556564c5730f6d4e300888f4bca2d4c5a88\n",
            "  Building wheel for iopath (setup.py) ... \u001b[?25l\u001b[?25hdone\n",
            "  Created wheel for iopath: filename=iopath-0.1.10-py3-none-any.whl size=31529 sha256=20e4af96941b1946dc7b2e23228a4721cc504cee6606e5db979162e9846e080b\n",
            "  Stored in directory: /root/.cache/pip/wheels/9a/a3/b6/ac0fcd1b4ed5cfeb3db92e6a0e476cfd48ed0df92b91080c1d\n",
            "Successfully built pypika langdetect antlr4-python3-runtime iopath\n",
            "Installing collected packages: pypika, monotonic, mmh3, filetype, antlr4-python3-runtime, websockets, uvloop, tenacity, rapidfuzz, python-multipart, python-magic, python-iso639, python-dotenv, pypdfium2, pypdf, portalocker, Pillow, overrides, orjson, ordered-set, opentelemetry-util-http, opentelemetry-proto, onnx, omegaconf, nvidia-nvtx-cu12, nvidia-nvjitlink-cu12, nvidia-nccl-cu12, nvidia-curand-cu12, nvidia-cufft-cu12, nvidia-cuda-runtime-cu12, nvidia-cuda-nvrtc-cu12, nvidia-cuda-cupti-cu12, nvidia-cublas-cu12, mypy-extensions, marshmallow, langdetect, jsonpointer, jsonpath-python, importlib-metadata, humanfriendly, httptools, h11, emoji, deprecated, chroma-hnswlib, bcrypt, backoff, asgiref, watchfiles, uvicorn, unstructured.pytesseract, typing-inspect, starlette, requests-toolbelt, pytesseract, posthog, pillow-heif, pikepdf, pdf2image, opentelemetry-exporter-otlp-proto-common, opentelemetry-api, nvidia-cusparse-cu12, nvidia-cudnn-cu12, jsonpatch, iopath, httpcore, deepdiff, coloredlogs, pdfminer.six, opentelemetry-semantic-conventions, opentelemetry-instrumentation, onnxruntime, nvidia-cusolver-cu12, kubernetes, httpx, fastapi, dataclasses-json, unstructured-client, transformers, pdfplumber, opentelemetry-sdk, opentelemetry-instrumentation-asgi, langsmith, groq, unstructured, sentence-transformers, opentelemetry-instrumentation-fastapi, opentelemetry-exporter-otlp-proto-grpc, layoutparser, langchain-core, google-cloud-vision, timm, langchain-text-splitters, langchain-groq, chromadb, unstructured-inference, langchain-chroma, langchain, effdet, langchain-community\n",
            "  Attempting uninstall: tenacity\n",
            "    Found existing installation: tenacity 9.0.0\n",
            "    Uninstalling tenacity-9.0.0:\n",
            "      Successfully uninstalled tenacity-9.0.0\n",
            "  Attempting uninstall: Pillow\n",
            "    Found existing installation: Pillow 9.4.0\n",
            "    Uninstalling Pillow-9.4.0:\n",
            "      Successfully uninstalled Pillow-9.4.0\n",
            "  Attempting uninstall: importlib-metadata\n",
            "    Found existing installation: importlib_metadata 8.2.0\n",
            "    Uninstalling importlib_metadata-8.2.0:\n",
            "      Successfully uninstalled importlib_metadata-8.2.0\n",
            "  Attempting uninstall: transformers\n",
            "    Found existing installation: transformers 4.42.4\n",
            "    Uninstalling transformers-4.42.4:\n",
            "      Successfully uninstalled transformers-4.42.4\n",
            "Successfully installed Pillow-10.4.0 antlr4-python3-runtime-4.9.3 asgiref-3.8.1 backoff-2.2.1 bcrypt-4.2.0 chroma-hnswlib-0.7.6 chromadb-0.5.5 coloredlogs-15.0.1 dataclasses-json-0.6.7 deepdiff-7.0.1 deprecated-1.2.14 effdet-0.4.1 emoji-2.12.1 fastapi-0.112.1 filetype-1.2.0 google-cloud-vision-3.7.4 groq-0.9.0 h11-0.14.0 httpcore-1.0.5 httptools-0.6.1 httpx-0.27.0 humanfriendly-10.0 importlib-metadata-8.0.0 iopath-0.1.10 jsonpatch-1.33 jsonpath-python-1.0.6 jsonpointer-3.0.0 kubernetes-30.1.0 langchain-0.2.11 langchain-chroma-0.1.2 langchain-community-0.2.10 langchain-core-0.2.34 langchain-groq-0.1.6 langchain-text-splitters-0.2.2 langdetect-1.0.9 langsmith-0.1.101 layoutparser-0.3.4 marshmallow-3.22.0 mmh3-4.1.0 monotonic-1.6 mypy-extensions-1.0.0 nvidia-cublas-cu12-12.1.3.1 nvidia-cuda-cupti-cu12-12.1.105 nvidia-cuda-nvrtc-cu12-12.1.105 nvidia-cuda-runtime-cu12-12.1.105 nvidia-cudnn-cu12-8.9.2.26 nvidia-cufft-cu12-11.0.2.54 nvidia-curand-cu12-10.3.2.106 nvidia-cusolver-cu12-11.4.5.107 nvidia-cusparse-cu12-12.1.0.106 nvidia-nccl-cu12-2.20.5 nvidia-nvjitlink-cu12-12.6.20 nvidia-nvtx-cu12-12.1.105 omegaconf-2.3.0 onnx-1.16.2 onnxruntime-1.19.0 opentelemetry-api-1.26.0 opentelemetry-exporter-otlp-proto-common-1.26.0 opentelemetry-exporter-otlp-proto-grpc-1.26.0 opentelemetry-instrumentation-0.47b0 opentelemetry-instrumentation-asgi-0.47b0 opentelemetry-instrumentation-fastapi-0.47b0 opentelemetry-proto-1.26.0 opentelemetry-sdk-1.26.0 opentelemetry-semantic-conventions-0.47b0 opentelemetry-util-http-0.47b0 ordered-set-4.1.0 orjson-3.10.7 overrides-7.7.0 pdf2image-1.17.0 pdfminer.six-20231228 pdfplumber-0.11.4 pikepdf-9.1.2 pillow-heif-0.18.0 portalocker-2.10.1 posthog-3.5.2 pypdf-4.3.1 pypdfium2-4.30.0 pypika-0.48.9 pytesseract-0.3.13 python-dotenv-1.0.1 python-iso639-2024.4.27 python-magic-0.4.27 python-multipart-0.0.9 rapidfuzz-3.9.6 requests-toolbelt-1.0.0 sentence-transformers-3.0.1 starlette-0.38.2 tenacity-8.5.0 timm-1.0.8 transformers-4.43.2 typing-inspect-0.9.0 unstructured-0.15.0 unstructured-client-0.25.5 unstructured-inference-0.7.36 unstructured.pytesseract-0.3.13 uvicorn-0.30.6 uvloop-0.20.0 watchfiles-0.23.0 websockets-13.0\n"
          ]
        },
        {
          "output_type": "display_data",
          "data": {
            "application/vnd.colab-display-data+json": {
              "pip_warning": {
                "packages": [
                  "PIL",
                  "google",
                  "pydevd_plugins"
                ]
              },
              "id": "8d28bf4525614b5a951411afdf8ffc9b"
            }
          },
          "metadata": {}
        }
      ],
      "source": [
        "!pip install -r requirements.txt"
      ]
    },
    {
      "cell_type": "code",
      "execution_count": 4,
      "metadata": {
        "id": "OoZtEg4nrNak"
      },
      "outputs": [],
      "source": [
        "import os\n",
        "from langchain.document_loaders import UnstructuredPDFLoader\n",
        "from langchain.text_splitter import CharacterTextSplitter\n",
        "from langchain_community.embeddings import HuggingFaceInstructEmbeddings\n",
        "from langchain_chroma import Chroma\n",
        "from langchain_groq import ChatGroq\n",
        "from langchain.chains import RetrievalQA\n"
      ]
    },
    {
      "cell_type": "code",
      "execution_count": 24,
      "metadata": {
        "id": "Wmn-tDSFs-je"
      },
      "outputs": [],
      "source": [
        "os.environ[\"GROQ_API_KEY\"] = \"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\""
      ]
    },
    {
      "cell_type": "code",
      "execution_count": 25,
      "metadata": {
        "colab": {
          "base_uri": "https://localhost:8080/"
        },
        "id": "0EUIAJkXwpHF",
        "outputId": "0478a84a-360e-40ef-f21b-83b8a0e2185e"
      },
      "outputs": [
        {
          "output_type": "execute_result",
          "data": {
            "text/plain": [
              "<Response [200]>"
            ]
          },
          "metadata": {},
          "execution_count": 25
        }
      ],
      "source": [
        "# fetch the pdf from url\n",
        "import requests\n",
        "url = \"https://cs.nyu.edu/courses/summer16/CSCI-UA.0002-002/slides/Python_Functions.pdf\"\n",
        "\n",
        "response = requests.get(url)\n",
        "response\n"
      ]
    },
    {
      "cell_type": "code",
      "execution_count": 26,
      "metadata": {
        "id": "BkpX4A7yyQEu"
      },
      "outputs": [],
      "source": [
        "# save the pdf local file\n",
        "with open(\"Python_inbuildfunctions.pdf\", \"wb\") as f:\n",
        "    f.write(response.content)\n"
      ]
    },
    {
      "cell_type": "code",
      "execution_count": 27,
      "metadata": {
        "id": "IJg8SB-PzYiV"
      },
      "outputs": [],
      "source": [
        "#load the document\n",
        "loader = UnstructuredPDFLoader(\"Python_inbuildfunctions.pdf\")"
      ]
    },
    {
      "cell_type": "code",
      "execution_count": 28,
      "metadata": {
        "colab": {
          "base_uri": "https://localhost:8080/"
        },
        "id": "n_AHuRwEzzgd",
        "outputId": "b0d97ba2-1b68-40d5-889b-542ed3f46b2f"
      },
      "outputs": [
        {
          "output_type": "execute_result",
          "data": {
            "text/plain": [
              "[Document(metadata={'source': 'Python_inbuildfunctions.pdf'}, page_content='+\\n\\nWorking with Functions in Python\\n\\nIntroduction to Programming - Python\\n\\n+\\n\\nFunctions\\n\\n+\\n\\nFunctions\\n\\nn\\u202f A function is a group of statements that exist within a\\n\\nprogram for the purpose of performing a specific task\\n\\nn\\u202f Since the beginning of the semester we have been using a\\n\\nnumber of Python’s built-in functions, including: n\\u202f print()\\n\\nn\\u202f range()\\n\\nn\\u202f len()\\n\\nn\\u202f random.randint()\\n\\nn\\u202f … etc\\n\\n+\\n\\nFunctions\\n\\nn\\u202f Most programs perform tasks that are large enough to be\\n\\nbroken down into subtasks\\n\\nn\\u202f Because of this, programmers often organize their programs into smaller, more manageable chunks by writing their own functions\\n\\nn\\u202f Instead of writing one large set of statements we can break down a program into several small functions, allowing us to “divide and conquer” a programming problem\\n\\n+\\n\\nDefining Functions\\n\\nn\\u202f Functions, like variables must be named and created before\\n\\nyou can use them\\n\\nn\\u202f The same naming rules apply for both variables and\\n\\nfunctions n\\u202f You can’t use any of Python’s keywords\\n\\nn\\u202f No spaces\\n\\nn\\u202f The first character must be A-Z or a-z or the “_” character\\n\\nn\\u202f After the first character you can use A-Z, a-z, “_” or 0-9\\n\\nn\\u202f Uppercase and lowercase characters are distinct\\n\\n+\\n\\nDefining functions\\n\\ndef myfunction():\\n\\nprint (“Printed from inside a function”)\\n\\n# call the function\\n\\nmyfunction()\\n\\n+\\n\\nSome notes on functions\\n\\nn\\u202f When you run a function you say that you “call” it\\n\\nn\\u202f Once a function has completed, Python will return back to the\\n\\nline directly after the initial function call\\n\\nn\\u202f When a function is called programmers commonly say that the “control” of the program has been transferred to the function. The function is responsible for the program’s execution.\\n\\nn\\u202f Functions must be defined before they can be used. In Python we generally place all of our functions at the beginning of our programs.\\n\\n+\\n\\nFlow of Execution\\n\\n+\\n\\nFlow of Execution\\n\\n+\\n\\nFlow of Execution\\n\\n+\\n\\nFlow of Execution\\n\\n+\\n\\nFlow of Execution\\n\\n+\\n\\nFlow of Execution\\n\\n+\\n\\nFlow of Execution\\n\\n+\\n\\nFlow of Execution\\n\\n+\\n\\nFlow of Execution\\n\\n+\\n\\nFlow of Execution\\n\\n+\\n\\nFlow of Execution – With Functions\\n\\n+\\n\\nFlow of Execution with Functions\\n\\n+\\n\\nFlow of Execution with Functions\\n\\n+\\n\\nFlow of Execution with Functions\\n\\n+\\n\\nFlow of Execution with Functions\\n\\n+\\n\\nFlow of Execution with Functions\\n\\n+\\n\\nFlow of Execution with Functions\\n\\n+\\n\\nFlow of Execution with Functions\\n\\n+\\n\\nFlow of Execution with Functions\\n\\n+\\n\\nFlow of Execution with Functions\\n\\n+\\n\\nFlow of Execution with Functions\\n\\n+\\n\\nMultiple Functions\\n\\n+\\n\\nMultiple functions\\n\\ndef hello():\\n\\nprint (“Hello there!”)\\n\\ndef goodbye():\\n\\nprint (“See ya!”)\\n\\nhello()\\n\\ngoodbye()\\n\\n+\\n\\nCalling functions inside functions\\n\\ndef main():\\n\\nprint (“I have a message for you.”)\\n\\nmessage()\\n\\nprint (“Goodbye!”)\\n\\ndef message():\\n\\nprint (“The password is ‘foo’”)\\n\\nmain()\\n\\n+\\n\\nProgramming Challenge: Hollow Square\\n\\nn\\u202f Write a program that prints the\\n\\npattern to the right using functions\\n\\n+\\n\\nProgramming Challenge: User Controlled Hollow Rectangle\\n\\nn\\u202f Ask the user for the height for\\n\\na rectangle\\n\\nn\\u202f Then draw a rectangle of that\\n\\nheight\\n\\n+\\n\\nLocal Variables\\n\\n+\\n\\nLocal Variables\\n\\nn\\u202f Functions are like “mini programs”\\n\\nn\\u202f You can create variables inside functions just as you would in\\n\\nyour main program\\n\\n+\\n\\nLocal Variables\\n\\ndef bugs():\\n\\nnumbugs = int(input(‘How many bugs? ‘))\\n\\nprint (numbugs)\\n\\nbugs()\\n\\n+\\n\\nLocal Variables\\n\\nn\\u202f However, variables that are defined inside of a function are\\n\\nconsidered “local” to that function.\\n\\nn\\u202f This means that they only exist within that function. Objects outside the “scope” of the function will not be able to access that variable\\n\\n+\\n\\nLocal Variables\\n\\ndef bugs():\\n\\nnumbugs = int(input(‘How many bugs? ‘))\\n\\nprint (numbugs)\\n\\nbugs()\\n\\nprint (numbugs) # error! Variable numbugs\\n\\n# doesn’t exist in this scope!\\n\\n+\\n\\nLocal Variables\\n\\nn\\u202f Different functions can have their own local variables that use\\n\\nthe same variable name\\n\\nn\\u202f These local variables will not overwrite one another since\\n\\nthey exist in different “scopes”\\n\\n+\\n\\nLocal Variables\\n\\ndef newjersey():\\u2028 numbugs = 1000\\u2028 print (“NJ has”, numbugs, “bugs”)\\n\\ndef newyork():\\n\\nnumbugs = 2000\\u2028 print (“NY has”, numbugs, “bugs”)\\n\\nnewjersey()\\n\\nnewyork()\\n\\n+\\n\\nPassing Arguments to a Function\\n\\n+\\n\\nPassing Arguments to a Function\\n\\nn\\u202f Sometimes it’s useful to not only call a function but also send\\n\\nit one or more pieces of data as an argument\\n\\nn\\u202f This process is identical to what you’ve been doing with the\\n\\nbuilt-in functions we have studied so far\\n\\nn\\u202f x = random.randint(1,5)\\n\\n# send 2 integers\\n\\nn\\u202f y = len(‘Obama’)\\n\\n# send 1 string\\n\\n+\\n\\nPassing Arguments to a Function\\n\\ndef square(num):\\n\\nprint (num**2)\\n\\n# num assumes the value of the\\n\\n# argument that is passed to\\n\\n# the function (5)\\n\\nsquare(5)\\n\\n+\\n\\nPassing Arguments to a Function\\n\\nn\\u202f When passing arguments, you need to let your function know what kind of data it should expect in your function definition\\n\\nn\\u202f You can do this by establishing a variable name in the\\n\\nfunction definition. This variable will be auto declared every time you call your function, and will assume the value of the argument passed to the function.\\n\\n+\\n\\nPassing Multiple Arguments to a Function\\n\\nn\\u202f You can actually pass any number of arguments to a function\\n\\nn\\u202f One way to do this is to pass in arguments “by position”\\n\\n+\\n\\nPassing Multiple Arguments to a Function\\n\\ndef average(num1, num2, num3):\\n\\nsum = num1+num2+num3\\n\\navg = sum / 3\\n\\nprint (avg)\\n\\naverage(100,90,92)\\n\\n+\\n\\nProgramming Challenge\\n\\nn\\u202f Write a function that accepts a restaurant check and a tip %\\n\\nn\\u202f Print out the tip that should be left on the table as well as the total bill\\n\\nn\\u202f If the tip is less than 15% you should tell the user that they might want to leave a little more on the table\\n\\n+\\n\\nProgramming Challenge: Distance Formula\\n\\nn\\u202f Write a program that asks the user to enter two points on a 2D plane (i.e. enter X1 & Y1, enter X2 & Y2)\\n\\nn\\u202f Compute the distance\\n\\nbetween those points using a function.\\n\\nn\\u202f Continually ask the user for\\n\\nnumbers until they wish to quit\\n\\n+\\n\\nProgramming Challenge\\n\\nn\\u202f Write a “joke” generator that prints out a random knock knock joke.\\n\\nn\\u202f Extension: Write a “drum roll”\\n\\nfunction that pauses the program for dramatic effect! Have the drum roll function accept a parameter that controls how long it should pause.\\n\\n+\\n\\nArgument Mechanics\\n\\n+\\n\\nArgument Mechanics\\n\\nn\\u202f When we pass an argument to a function in Python we are actually passing it’s “value” into the function, and not an actual variable\\n\\n+\\n\\nArgument Mechanics\\n\\ndef change_me(v):\\n\\nprint (\"function got:\", v)\\u2028 v = 10\\u2028 print (\"argument is now:\", v)\\n\\nmyvar = 5\\n\\nprint (\"starting with:\", myvar)\\n\\nchange_me(myvar)\\n\\nprint (\"ending with:\", myvar)\\n\\n+\\n\\nArgument Mechanics\\n\\nn\\u202f We call this behavior “passing by value”\\n\\nn\\u202f We are essentially creating two copies of the data that is\\n\\nbeing passed – one that stays in the main program and one that is passed as an argument into our function\\n\\nn\\u202f This behavior allows us to set up a “one way” communication\\n\\nmechanism – we can send data into a function as an argument, but the function cannot communicate back by updating or changing the argument in any way\\n\\nn\\u202f (we will talk about how to communicate back to the caller in\\n\\njust a second!)\\n\\n+\\n\\nGlobal Variables\\n\\n+\\n\\nGlobal Variables\\n\\nn\\u202f When you create a variable inside a function we say that the\\n\\nvariable is “local” to that function\\n\\nn\\u202f This means that it can only be accessed by statements inside\\n\\nthe function that created it\\n\\nn\\u202f When a variable is created outside all of your functions it is\\n\\nconsidered a “global variable”\\n\\nn\\u202f Global variables can be accessed by any statement in your\\n\\nprogram file, including by statements in any function\\n\\nn\\u202f All of the variables we have been creating so far in class have\\n\\nbeen global variables\\n\\n+\\n\\nGlobal Variables\\n\\nname = \\'Obama\\'\\n\\ndef showname():\\n\\nprint (\"Function:\", name)\\n\\nprint (\"Main program:\", name)\\n\\nshowname()\\n\\n+\\n\\nGlobal Variables\\n\\nn\\u202f If you want to be able to change a global variable inside of a function you must first tell Python that you wish to do this using the “global” keyword inside your function\\n\\n+\\n\\nGlobal Variables\\n\\nname = \\'Obama’\\n\\ndef showname():\\u2028 global name\\u2028 print (\"Function 1:\", name)\\u2028 name = \\'John’\\u2028 print (\"Function 2:\", name)\\n\\nprint (\"Main program 1:\", name)\\n\\nshowname()\\n\\nprint (\"Main program 2:\", name)\\n\\n+\\n\\nGlobal Variables\\n\\nn\\u202f Global variables can make debugging difficult\\n\\nn\\u202f Functions that use global variables are generally dependent\\n\\non those variables, making your code less portable\\n\\nn\\u202f With that said, there are many situations where using global\\n\\nvariables makes a lot of sense.\\n\\n+\\n\\nProgramming Challenge\\n\\nn\\u202f Write a very brief “choose your own adventure” style game using functions\\n\\nn\\u202f Reference:\\n\\nhttp://thcnet.net/zork/\\n\\n+\\n\\nProgramming Challenge\\n\\n+\\n\\nValue Returning Functions\\n\\n+\\n\\nValue Returning Functions\\n\\nn\\u202f Value returning functions are functions that return a value to\\n\\nthe part of the program that initiated the function call\\n\\nn\\u202f They are almost identical to the type of functions we have\\n\\nbeen writing so far, but they have the added ability to send back information at the end of the function call\\n\\nn\\u202f We have secretly been using these all semester! n\\u202f somestring = input(“Tell me your name”)\\n\\nn\\u202f somenumber = random.randint(1,5)\\n\\n+\\n\\nWriting your own value returning functions\\n\\nn\\u202f You use almost the same syntax for writing a value returning\\n\\nfunction as you would for writing a normal function\\n\\nn\\u202f The only difference is that you need to include a “return” statement in your function to tell Python that you intend to return a value to the calling program\\n\\nn\\u202f The return statement causes a function to end immediately.\\n\\nIt’s like the break statement for a loop.\\n\\nn\\u202f A function will not proceed past its return statement once\\n\\nencountered. Control of the program is returned back to the caller.\\n\\n+\\n\\nValue Returning Functions\\n\\ndef myfunction(arg1, arg2):\\n\\nstatement\\u2028 statement\\u2028 …\\u2028 statement\\u2028 return expression\\n\\n# call the function\\n\\nreturnvalue = myfunction(10, 50)\\n\\n+\\n\\nProgramming Challenge: Combined Age\\n\\nn\\u202f Write a function that takes two age values as integers, adds them up and returns the result as an integer\\n\\n+\\n\\nProgramming Challenge: Discounted Pricing\\n\\nn\\u202f Prompt the use for an item price\\n\\n(using a function)\\n\\nn\\u202f Apply a 20% discount to the\\n\\nprice (using a function)\\n\\nn\\u202f Print the starting price and the\\n\\ndiscounted price\\n\\nn\\u202f Extension:\\n\\nn\\u202f Don’t accept price values less than $0.05 – repeatedly ask the user to enter new data if this happens\\n\\nn\\u202f Repeat the discounting\\n\\nprocess until the user elects to stop entering data\\n\\n+\\n\\nProgramming Challenge: Distance Formula\\n\\nn\\u202f Write a program that asks the user to enter a point on a 2D plane (i.e. enter X & Y)\\n\\nn\\u202f Compute the distance\\n\\nbetween that point and the origin of the plane (0,0)\\n\\nn\\u202f If the distance is < 10, tell them\\n\\nthey hit a bullseye. If the distance is >= 10, they missed!\\n\\n+\\n\\nIPO Notation\\n\\nn\\u202f As you start writing more advanced functions you should\\n\\nthink about documenting them based on their Input, Processing and Output (IPO)\\n\\nn\\u202f Example:\\n\\n# function: add_ages\\u2028 # input: age1 (integer), age2 (integer)\\u2028 # processing: combines the two integers\\u2028 # output: returns the combined value\\u2028 def add_ages(age1, age2):\\u2028 sum = age1+age2\\u2028 return sum\\n\\n+\\n\\nReturning Boolean Values\\n\\nn\\u202f Boolean values can drastically\\n\\nsimplify decision and repetition structures\\n\\nn\\u202f Example:\\n\\nn\\u202f Write a program that asks the user\\n\\nfor a part number\\n\\nn\\u202f Only accept part #’s that are on\\n\\nthe following list: n\\u202f 100 n\\u202f 200 n\\u202f 300 n\\u202f 400 n\\u202f 500\\n\\nn\\u202f Continually prompt the user for a part # until they enter a correct value\\n\\n+\\n\\nReturning multiple values\\n\\nn\\u202f Functions can also return multiple values using the following\\n\\nsyntax:\\n\\ndef testfunction():\\u2028 x = 5\\u2028 y = 10\\u2028 return x, y\\n\\np, q = testfunction()\\n\\n+\\n\\nProgramming Challenge: Two Dice\\n\\nn\\u202f Write a function that simulates the\\n\\nrolling of two dice\\n\\nn\\u202f The function should accept a size\\n\\nparameter (i.e. how many sides does each die have)\\n\\nn\\u202f The function should return two\\n\\nvalues which represent the result of each roll\\n\\nn\\u202f Extension:\\n\\nn\\u202f Make sure both numbers that you return are different (i.e. you can’t roll doubles or snake eyes)\\n\\nn\\u202f Build in an argument that lets you\\n\\nspecify whether you want to enforce the no doubles policy\\n\\n+\\n\\nProgramming Challenge: Feet to Inches\\n\\nn\\u202f Write a function that converts\\n\\nfeet to inches. It should accept a number of feet as an argument and return the equivalent number of inches.\\n\\n+\\n\\nProgramming Challenge: Maximum of two values\\n\\nn\\u202f Write a function named\\n\\n“maximum” that accepts two integer values and returns the one that the greater of the two to the calling program\\n\\n+\\n\\nModules\\n\\n+\\n\\nModules\\n\\nn\\u202f All programming languages come pre-packaged with a\\n\\nstandard library of functions that are designed to make your job as a programmer easier\\n\\nn\\u202f Some of these functions are built right into the “core” of\\n\\nPython (print, input, range, etc)\\n\\nn\\u202f Other more specialized functions are stored in a series of\\n\\nfiles called “modules” that Python can access upon request by using the “import” statement n\\u202f import random\\n\\nn\\u202f import time\\n\\n+\\n\\nModules\\n\\nn\\u202f On a Mac you can actually see these files here:\\n\\nn\\u202f /Library/Frameworks/Python.framework/Versions/3.2/lib/\\n\\npython3.2/\\n\\nn\\u202f To see information about a module, you can do the following\\n\\nin IDLE: n\\u202f import modulename n\\u202f help(modulename)\\n\\n+\\n\\nModules\\n\\nn\\u202f The import statement tells Python to load the functions that exist within a specific module into memory and make them available in your code\\n\\nn\\u202f Because you don’t see the inner workings of a function inside\\n\\na module we sometimes call them “black boxes”\\n\\nn\\u202f A “black box” describes a mechanism that accepts input,\\n\\nperforms an operation that can’t be seen using that input, and produces some kind of output\\n\\n+\\n\\n“Black Box” model\\n\\n+\\n\\nFunctions in modules\\n\\nn\\u202f We call functions that exist within a module by using “dot notation” to tell Python to run a function that exists in that module\\n\\nn\\u202f Example:\\n\\nn\\u202f num = random.randint(1,5)\\n\\n+\\n\\nListing functions in a module\\n\\nn\\u202f You can list the functions that exist in a particular module by\\n\\nusing the help() function\\n\\nn\\u202f The help() function takes one argument (a string that\\n\\nrepresents the name of the module) and returns the user manual for that module\\n\\n+\\n\\nCreating your own modules\\n\\nn\\u202f You can easily create your own modules that you can\\n\\npopulate with your own functions. Here’s how: n\\u202f Create a new python script (i.e. “myfunctions.py”)\\n\\nn\\u202f Place your function definitions in this script\\n\\nn\\u202f Create a second python script (i..e “myprogram.py”)\\n\\nn\\u202f Import your function module using the import statement:\\n\\nimport myfunctions\\n\\nn\\u202f Call your functions using dot notation\\n\\nmyfunctions.function1()\\u2028 myfunctions.dosomethingelse()\\n\\n+\\n\\nProgramming Challenge\\n\\nn\\u202f Create a module called “geometry_helper”\\n\\nn\\u202f Write two functions in this\\n\\nmodule:\\n\\nn\\u202f Area of circle\\n\\nn\\u202f Perimeter of circle\\n\\nn\\u202f Each of these functions will accept one argument (a radius) and will print out the result to the user.\\n\\n+\\n\\nSome additional functions inside the random module\\n\\nn\\u202f Floating point random #’s n\\u202f num = random.random()\\n\\n# generates a float \\u2028 # between 0 and 1\\n\\nn\\u202f num = random.uniform(1,10)\\n\\n# generates a float\\u2028 # between 1 and 10\\n\\n+\\n\\nSeeding the random number generator\\n\\nn\\u202f As we mentioned in an earlier class, the computer does not\\n\\nhave the ability to generate a truly random #\\n\\nn\\u202f It uses a series of complicated mathematical formulas that are based on a known value (usually the system clock)\\n\\nn\\u202f The seed function in the random module allows you to\\n\\nspecify the “seed” value for the random #’s that the various random number functions generate\\n\\nn\\u202f You can seed the random # generator with whatever value\\n\\nyou want – and you can even reproduce a random range this way!')]"
            ]
          },
          "metadata": {},
          "execution_count": 28
        }
      ],
      "source": [
        "documents = loader.load()\n",
        "documents"
      ]
    },
    {
      "cell_type": "code",
      "execution_count": 29,
      "metadata": {
        "id": "33MpAp1tz_xn"
      },
      "outputs": [],
      "source": [
        "text_splitter = CharacterTextSplitter(chunk_size=1000, chunk_overlap=100)"
      ]
    },
    {
      "cell_type": "code",
      "source": [
        "text_splitter"
      ],
      "metadata": {
        "colab": {
          "base_uri": "https://localhost:8080/"
        },
        "id": "RggZkKN-PBMa",
        "outputId": "50253543-ba4c-41a8-99e9-a68f068df491"
      },
      "execution_count": 30,
      "outputs": [
        {
          "output_type": "execute_result",
          "data": {
            "text/plain": [
              "<langchain_text_splitters.character.CharacterTextSplitter at 0x7cc88d9efa90>"
            ]
          },
          "metadata": {},
          "execution_count": 30
        }
      ]
    },
    {
      "cell_type": "code",
      "source": [
        "texts = text_splitter.split_documents(documents)"
      ],
      "metadata": {
        "id": "igjXrzOiOeUE"
      },
      "execution_count": 31,
      "outputs": []
    },
    {
      "cell_type": "code",
      "source": [
        "type(texts)"
      ],
      "metadata": {
        "colab": {
          "base_uri": "https://localhost:8080/"
        },
        "id": "tQi2B8wMPPfT",
        "outputId": "54599e3e-9924-4fb2-9f56-e3bc1c33a6a4"
      },
      "execution_count": 32,
      "outputs": [
        {
          "output_type": "execute_result",
          "data": {
            "text/plain": [
              "list"
            ]
          },
          "metadata": {},
          "execution_count": 32
        }
      ]
    },
    {
      "cell_type": "code",
      "source": [
        "texts[2]"
      ],
      "metadata": {
        "colab": {
          "base_uri": "https://localhost:8080/"
        },
        "id": "OgH1g7BePPol",
        "outputId": "e5ffb283-639b-418f-fd28-34e0d1fc86d3"
      },
      "execution_count": 33,
      "outputs": [
        {
          "output_type": "execute_result",
          "data": {
            "text/plain": [
              "Document(metadata={'source': 'Python_inbuildfunctions.pdf'}, page_content='+\\n\\nFlow of Execution\\n\\n+\\n\\nFlow of Execution\\n\\n+\\n\\nFlow of Execution\\n\\n+\\n\\nFlow of Execution\\n\\n+\\n\\nFlow of Execution\\n\\n+\\n\\nFlow of Execution\\n\\n+\\n\\nFlow of Execution\\n\\n+\\n\\nFlow of Execution\\n\\n+\\n\\nFlow of Execution\\n\\n+\\n\\nFlow of Execution\\n\\n+\\n\\nFlow of Execution – With Functions\\n\\n+\\n\\nFlow of Execution with Functions\\n\\n+\\n\\nFlow of Execution with Functions\\n\\n+\\n\\nFlow of Execution with Functions\\n\\n+\\n\\nFlow of Execution with Functions\\n\\n+\\n\\nFlow of Execution with Functions\\n\\n+\\n\\nFlow of Execution with Functions\\n\\n+\\n\\nFlow of Execution with Functions\\n\\n+\\n\\nFlow of Execution with Functions\\n\\n+\\n\\nFlow of Execution with Functions\\n\\n+\\n\\nFlow of Execution with Functions\\n\\n+\\n\\nMultiple Functions\\n\\n+\\n\\nMultiple functions\\n\\ndef hello():\\n\\nprint (“Hello there!”)\\n\\ndef goodbye():\\n\\nprint (“See ya!”)\\n\\nhello()\\n\\ngoodbye()\\n\\n+\\n\\nCalling functions inside functions\\n\\ndef main():\\n\\nprint (“I have a message for you.”)\\n\\nmessage()\\n\\nprint (“Goodbye!”)\\n\\ndef message():\\n\\nprint (“The password is ‘foo’”)\\n\\nmain()\\n\\n+\\n\\nProgramming Challenge: Hollow Square')"
            ]
          },
          "metadata": {},
          "execution_count": 33
        }
      ]
    },
    {
      "cell_type": "code",
      "source": [
        "\n",
        "\n",
        "from langchain.embeddings import HuggingFaceEmbeddings\n",
        "\n",
        "embeddings = HuggingFaceEmbeddings()"
      ],
      "metadata": {
        "id": "y_D2FaneTt9o"
      },
      "execution_count": 34,
      "outputs": []
    },
    {
      "cell_type": "code",
      "source": [
        "persist_directory = \"vector_db\""
      ],
      "metadata": {
        "id": "1ICgSM0tPrj0"
      },
      "execution_count": 35,
      "outputs": []
    },
    {
      "cell_type": "markdown",
      "source": [],
      "metadata": {
        "id": "b5-6c4T87vmW"
      }
    },
    {
      "cell_type": "code",
      "source": [
        "vectordb = Chroma.from_documents(texts, embeddings, persist_directory=persist_directory)"
      ],
      "metadata": {
        "id": "Im93MoLdRIpO"
      },
      "execution_count": 16,
      "outputs": []
    },
    {
      "cell_type": "code",
      "source": [
        "# retrival\n",
        "\n",
        "retriever = vectordb.as_retriever()"
      ],
      "metadata": {
        "id": "2twiq-TcVfWC"
      },
      "execution_count": 17,
      "outputs": []
    },
    {
      "cell_type": "code",
      "source": [
        "llm = ChatGroq(model=\"Llama3-8b-8192\", temperature=0)"
      ],
      "metadata": {
        "id": "vCLn0fkHVfZw"
      },
      "execution_count": 36,
      "outputs": []
    },
    {
      "cell_type": "code",
      "source": [
        "qa_chain = RetrievalQA.from_chain_type(llm=llm, chain_type=\"stuff\", retriever=retriever, return_source_documents=True)"
      ],
      "metadata": {
        "id": "YEYzxcqFVfoM"
      },
      "execution_count": 37,
      "outputs": []
    },
    {
      "cell_type": "code",
      "source": [
        "query = 'what are thr inbuild function from this pdf'\n",
        "response = qa_chain.invoke({\"query\":query})"
      ],
      "metadata": {
        "id": "wKlT4JXJXxSg"
      },
      "execution_count": 38,
      "outputs": []
    },
    {
      "cell_type": "code",
      "source": [
        "print(response)"
      ],
      "metadata": {
        "colab": {
          "base_uri": "https://localhost:8080/"
        },
        "id": "JNCrOJ-H9aev",
        "outputId": "850489b1-8292-4cb1-b9a8-cfe2eb39c2de"
      },
      "execution_count": 39,
      "outputs": [
        {
          "output_type": "stream",
          "name": "stdout",
          "text": [
            "{'query': 'what are thr inbuild function from this pdf', 'result': 'Based on the provided PDF, the following are the built-in functions mentioned:\\n\\n1. `print()`\\n2. `input()`\\n3. `range()`\\n4. `random.randint()`\\n5. `time()`', 'source_documents': [Document(metadata={'source': 'Python_inbuildfunctions.pdf'}, page_content='they hit a bullseye. If the distance is >= 10, they missed!\\n\\n+\\n\\nIPO Notation\\n\\nn\\u202f As you start writing more advanced functions you should\\n\\nthink about documenting them based on their Input, Processing and Output (IPO)\\n\\nn\\u202f Example:\\n\\n# function: add_ages\\u2028 # input: age1 (integer), age2 (integer)\\u2028 # processing: combines the two integers\\u2028 # output: returns the combined value\\u2028 def add_ages(age1, age2):\\u2028 sum = age1+age2\\u2028 return sum\\n\\n+\\n\\nReturning Boolean Values\\n\\nn\\u202f Boolean values can drastically\\n\\nsimplify decision and repetition structures\\n\\nn\\u202f Example:\\n\\nn\\u202f Write a program that asks the user\\n\\nfor a part number\\n\\nn\\u202f Only accept part #’s that are on\\n\\nthe following list: n\\u202f 100 n\\u202f 200 n\\u202f 300 n\\u202f 400 n\\u202f 500\\n\\nn\\u202f Continually prompt the user for a part # until they enter a correct value\\n\\n+\\n\\nReturning multiple values\\n\\nn\\u202f Functions can also return multiple values using the following\\n\\nsyntax:\\n\\ndef testfunction():\\u2028 x = 5\\u2028 y = 10\\u2028 return x, y\\n\\np, q = testfunction()\\n\\n+\\n\\nProgramming Challenge: Two Dice'), Document(metadata={'source': 'Python_inbuildfunctions.pdf'}, page_content='+\\n\\nModules\\n\\n+\\n\\nModules\\n\\nn\\u202f All programming languages come pre-packaged with a\\n\\nstandard library of functions that are designed to make your job as a programmer easier\\n\\nn\\u202f Some of these functions are built right into the “core” of\\n\\nPython (print, input, range, etc)\\n\\nn\\u202f Other more specialized functions are stored in a series of\\n\\nfiles called “modules” that Python can access upon request by using the “import” statement n\\u202f import random\\n\\nn\\u202f import time\\n\\n+\\n\\nModules\\n\\nn\\u202f On a Mac you can actually see these files here:\\n\\nn\\u202f /Library/Frameworks/Python.framework/Versions/3.2/lib/\\n\\npython3.2/\\n\\nn\\u202f To see information about a module, you can do the following\\n\\nin IDLE: n\\u202f import modulename n\\u202f help(modulename)\\n\\n+\\n\\nModules\\n\\nn\\u202f The import statement tells Python to load the functions that exist within a specific module into memory and make them available in your code\\n\\nn\\u202f Because you don’t see the inner workings of a function inside\\n\\na module we sometimes call them “black boxes”'), Document(metadata={'source': 'Python_inbuildfunctions.pdf'}, page_content='+\\n\\nFlow of Execution\\n\\n+\\n\\nFlow of Execution\\n\\n+\\n\\nFlow of Execution\\n\\n+\\n\\nFlow of Execution\\n\\n+\\n\\nFlow of Execution\\n\\n+\\n\\nFlow of Execution\\n\\n+\\n\\nFlow of Execution\\n\\n+\\n\\nFlow of Execution\\n\\n+\\n\\nFlow of Execution\\n\\n+\\n\\nFlow of Execution\\n\\n+\\n\\nFlow of Execution – With Functions\\n\\n+\\n\\nFlow of Execution with Functions\\n\\n+\\n\\nFlow of Execution with Functions\\n\\n+\\n\\nFlow of Execution with Functions\\n\\n+\\n\\nFlow of Execution with Functions\\n\\n+\\n\\nFlow of Execution with Functions\\n\\n+\\n\\nFlow of Execution with Functions\\n\\n+\\n\\nFlow of Execution with Functions\\n\\n+\\n\\nFlow of Execution with Functions\\n\\n+\\n\\nFlow of Execution with Functions\\n\\n+\\n\\nFlow of Execution with Functions\\n\\n+\\n\\nMultiple Functions\\n\\n+\\n\\nMultiple functions\\n\\ndef hello():\\n\\nprint (“Hello there!”)\\n\\ndef goodbye():\\n\\nprint (“See ya!”)\\n\\nhello()\\n\\ngoodbye()\\n\\n+\\n\\nCalling functions inside functions\\n\\ndef main():\\n\\nprint (“I have a message for you.”)\\n\\nmessage()\\n\\nprint (“Goodbye!”)\\n\\ndef message():\\n\\nprint (“The password is ‘foo’”)\\n\\nmain()\\n\\n+\\n\\nProgramming Challenge: Hollow Square'), Document(metadata={'source': 'Python_inbuildfunctions.pdf'}, page_content='a module we sometimes call them “black boxes”\\n\\nn\\u202f A “black box” describes a mechanism that accepts input,\\n\\nperforms an operation that can’t be seen using that input, and produces some kind of output\\n\\n+\\n\\n“Black Box” model\\n\\n+\\n\\nFunctions in modules\\n\\nn\\u202f We call functions that exist within a module by using “dot notation” to tell Python to run a function that exists in that module\\n\\nn\\u202f Example:\\n\\nn\\u202f num = random.randint(1,5)\\n\\n+\\n\\nListing functions in a module\\n\\nn\\u202f You can list the functions that exist in a particular module by\\n\\nusing the help() function\\n\\nn\\u202f The help() function takes one argument (a string that\\n\\nrepresents the name of the module) and returns the user manual for that module\\n\\n+\\n\\nCreating your own modules\\n\\nn\\u202f You can easily create your own modules that you can\\n\\npopulate with your own functions. Here’s how: n\\u202f Create a new python script (i.e. “myfunctions.py”)\\n\\nn\\u202f Place your function definitions in this script\\n\\nn\\u202f Create a second python script (i..e “myprogram.py”)')]}\n"
          ]
        }
      ]
    },
    {
      "cell_type": "code",
      "source": [
        "query1 = \"what is the pyhton function\"\n",
        "response1 = qa_chain.invoke({\"query\":query1})\n",
        "print(response1)"
      ],
      "metadata": {
        "colab": {
          "base_uri": "https://localhost:8080/"
        },
        "id": "_N58pVgx9eUI",
        "outputId": "debc8aa0-dc5d-4e18-d7d8-1538e584c6d6"
      },
      "execution_count": 41,
      "outputs": [
        {
          "output_type": "stream",
          "name": "stdout",
          "text": [
            "{'query': 'what is the pyhton function', 'result': 'In Python, a function is a block of code that can be executed multiple times from different parts of your program. It\\'s a way to group a set of statements together to perform a specific task. Functions can take arguments, which are values passed to the function when it\\'s called, and they can return values, which are sent back to the caller.\\n\\nFunctions are useful for several reasons:\\n\\n1. Reusability: You can use a function multiple times in your program without having to rewrite the code.\\n2. Modularity: Functions help organize your code into smaller, more manageable chunks.\\n3. Code reuse: You can reuse functions in different parts of your program or even in other programs.\\n4. Easier debugging: With functions, you can isolate and debug specific parts of your code more easily.\\n\\nIn Python, you can define a function using the `def` keyword, followed by the function name and arguments in parentheses. For example:\\n```\\ndef greet(name):\\n    print(\"Hello, \" + name + \"!\")\\n```\\nThis function takes a single argument `name` and prints a greeting message to the console.\\n\\nYou can then call the function by using its name, followed by the arguments in parentheses:\\n```\\ngreet(\"John\")  # Output: Hello, John!\\n```\\nFunctions can also return values, which can be used in your program. For example:\\n```\\ndef add(a, b):\\n    return a + b\\n\\nresult = add(2, 3)  # result is 5\\n```\\nIn this example, the `add` function takes two arguments `a` and `b`, adds them together, and returns the result. The `result` variable is assigned the value returned by the function.\\n\\nOverall, functions are a powerful tool in Python that can help you write more efficient, organized, and reusable code.', 'source_documents': [Document(metadata={'source': 'Python_inbuildfunctions.pdf'}, page_content='+\\n\\nModules\\n\\n+\\n\\nModules\\n\\nn\\u202f All programming languages come pre-packaged with a\\n\\nstandard library of functions that are designed to make your job as a programmer easier\\n\\nn\\u202f Some of these functions are built right into the “core” of\\n\\nPython (print, input, range, etc)\\n\\nn\\u202f Other more specialized functions are stored in a series of\\n\\nfiles called “modules” that Python can access upon request by using the “import” statement n\\u202f import random\\n\\nn\\u202f import time\\n\\n+\\n\\nModules\\n\\nn\\u202f On a Mac you can actually see these files here:\\n\\nn\\u202f /Library/Frameworks/Python.framework/Versions/3.2/lib/\\n\\npython3.2/\\n\\nn\\u202f To see information about a module, you can do the following\\n\\nin IDLE: n\\u202f import modulename n\\u202f help(modulename)\\n\\n+\\n\\nModules\\n\\nn\\u202f The import statement tells Python to load the functions that exist within a specific module into memory and make them available in your code\\n\\nn\\u202f Because you don’t see the inner workings of a function inside\\n\\na module we sometimes call them “black boxes”'), Document(metadata={'source': 'Python_inbuildfunctions.pdf'}, page_content='+\\n\\nWorking with Functions in Python\\n\\nIntroduction to Programming - Python\\n\\n+\\n\\nFunctions\\n\\n+\\n\\nFunctions\\n\\nn\\u202f A function is a group of statements that exist within a\\n\\nprogram for the purpose of performing a specific task\\n\\nn\\u202f Since the beginning of the semester we have been using a\\n\\nnumber of Python’s built-in functions, including: n\\u202f print()\\n\\nn\\u202f range()\\n\\nn\\u202f len()\\n\\nn\\u202f random.randint()\\n\\nn\\u202f … etc\\n\\n+\\n\\nFunctions\\n\\nn\\u202f Most programs perform tasks that are large enough to be\\n\\nbroken down into subtasks\\n\\nn\\u202f Because of this, programmers often organize their programs into smaller, more manageable chunks by writing their own functions\\n\\nn\\u202f Instead of writing one large set of statements we can break down a program into several small functions, allowing us to “divide and conquer” a programming problem\\n\\n+\\n\\nDefining Functions\\n\\nn\\u202f Functions, like variables must be named and created before\\n\\nyou can use them\\n\\nn\\u202f The same naming rules apply for both variables and'), Document(metadata={'source': 'Python_inbuildfunctions.pdf'}, page_content='a module we sometimes call them “black boxes”\\n\\nn\\u202f A “black box” describes a mechanism that accepts input,\\n\\nperforms an operation that can’t be seen using that input, and produces some kind of output\\n\\n+\\n\\n“Black Box” model\\n\\n+\\n\\nFunctions in modules\\n\\nn\\u202f We call functions that exist within a module by using “dot notation” to tell Python to run a function that exists in that module\\n\\nn\\u202f Example:\\n\\nn\\u202f num = random.randint(1,5)\\n\\n+\\n\\nListing functions in a module\\n\\nn\\u202f You can list the functions that exist in a particular module by\\n\\nusing the help() function\\n\\nn\\u202f The help() function takes one argument (a string that\\n\\nrepresents the name of the module) and returns the user manual for that module\\n\\n+\\n\\nCreating your own modules\\n\\nn\\u202f You can easily create your own modules that you can\\n\\npopulate with your own functions. Here’s how: n\\u202f Create a new python script (i.e. “myfunctions.py”)\\n\\nn\\u202f Place your function definitions in this script\\n\\nn\\u202f Create a second python script (i..e “myprogram.py”)'), Document(metadata={'source': 'Python_inbuildfunctions.pdf'}, page_content='n\\u202f We have secretly been using these all semester! n\\u202f somestring = input(“Tell me your name”)\\n\\nn\\u202f somenumber = random.randint(1,5)\\n\\n+\\n\\nWriting your own value returning functions\\n\\nn\\u202f You use almost the same syntax for writing a value returning\\n\\nfunction as you would for writing a normal function\\n\\nn\\u202f The only difference is that you need to include a “return” statement in your function to tell Python that you intend to return a value to the calling program\\n\\nn\\u202f The return statement causes a function to end immediately.\\n\\nIt’s like the break statement for a loop.\\n\\nn\\u202f A function will not proceed past its return statement once\\n\\nencountered. Control of the program is returned back to the caller.\\n\\n+\\n\\nValue Returning Functions\\n\\ndef myfunction(arg1, arg2):\\n\\nstatement\\u2028 statement\\u2028 …\\u2028 statement\\u2028 return expression\\n\\n# call the function\\n\\nreturnvalue = myfunction(10, 50)\\n\\n+\\n\\nProgramming Challenge: Combined Age')]}\n"
          ]
        }
      ]
    },
    {
      "cell_type": "code",
      "source": [
        "print(response[\"result\"])"
      ],
      "metadata": {
        "colab": {
          "base_uri": "https://localhost:8080/"
        },
        "id": "V3G81VZf-OLx",
        "outputId": "94f0a264-2d29-4ffa-af3e-911c4a625be8"
      },
      "execution_count": 42,
      "outputs": [
        {
          "output_type": "stream",
          "name": "stdout",
          "text": [
            "Based on the provided PDF, the following are the built-in functions mentioned:\n",
            "\n",
            "1. `print()`\n",
            "2. `input()`\n",
            "3. `range()`\n",
            "4. `random.randint()`\n",
            "5. `time()`\n"
          ]
        }
      ]
    },
    {
      "cell_type": "code",
      "source": [
        "query = \"give me summary of all function from this pdf?\"\n",
        "response = qa_chain.invoke({\"query\":query})\n",
        "print(response[\"result\"])\n",
        "print(\"*\"*40)"
      ],
      "metadata": {
        "colab": {
          "base_uri": "https://localhost:8080/"
        },
        "id": "E67ibA4v_HFI",
        "outputId": "30aa33e9-5234-4714-f788-00c87ca04df6"
      },
      "execution_count": 43,
      "outputs": [
        {
          "output_type": "stream",
          "name": "stdout",
          "text": [
            "Based on the provided PDF, here is a summary of the functions discussed:\n",
            "\n",
            "1. Defining Functions:\n",
            "\t* Functions are groups of statements that perform a specific task.\n",
            "\t* They can be used to break down a program into smaller, more manageable chunks.\n",
            "\t* Functions must be named and created before they can be used.\n",
            "2. IPO Notation:\n",
            "\t* Input: The data that is passed to the function.\n",
            "\t* Processing: The actions performed on the input data.\n",
            "\t* Output: The result of the function.\n",
            "3. Returning Values:\n",
            "\t* Functions can return a single value using the `return` statement.\n",
            "\t* Functions can also return multiple values using the `return` statement with multiple values.\n",
            "4. Returning Boolean Values:\n",
            "\t* Boolean values can be used to simplify decision and repetition structures.\n",
            "\t* Example: Writing a program that asks the user for a part number and only accepts part numbers that are on a specific list.\n",
            "5. Passing Arguments to a Function:\n",
            "\t* When passing arguments, the function definition should specify the variable name and data type.\n",
            "\t* Example: A function that takes a number as an argument and returns its square.\n",
            "6. Passing Multiple Arguments to a Function:\n",
            "\t* Functions can take multiple arguments, which can be passed in by position or by name.\n",
            "\t* Example: A function that takes three numbers as arguments and returns their average.\n",
            "7. Programming Challenges:\n",
            "\t* Writing a function that accepts a restaurant check and a tip percentage and prints out the tip and total bill.\n",
            "\t* Writing a function that takes a number as an argument and returns its square.\n",
            "\n",
            "Some other topics mentioned in the PDF include:\n",
            "\n",
            "* Flow of Execution: The order in which statements are executed in a program.\n",
            "* Multiple Functions: Writing multiple functions that can be called from other parts of the program.\n",
            "* Calling Functions Inside Functions: Writing a function that calls another function.\n",
            "* Working with Functions in Python: Introduction to functions in Python programming.\n",
            "\n",
            "Please note that this summary is based on the provided PDF and may not cover all the topics or functions discussed in the document.\n",
            "****************************************\n"
          ]
        }
      ]
    },
    {
      "cell_type": "code",
      "source": [],
      "metadata": {
        "id": "SyNxChL0BtnW"
      },
      "execution_count": null,
      "outputs": []
    }
  ],
  "metadata": {
    "accelerator": "GPU",
    "colab": {
      "gpuType": "T4",
      "provenance": []
    },
    "kernelspec": {
      "display_name": "Python 3",
      "name": "python3"
    },
    "language_info": {
      "name": "python"
    }
  },
  "nbformat": 4,
  "nbformat_minor": 0
}